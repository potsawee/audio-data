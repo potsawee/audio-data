{
 "cells": [
  {
   "cell_type": "code",
   "execution_count": 1,
   "id": "8ec29038-62d2-46c4-bafb-3017fde58a76",
   "metadata": {},
   "outputs": [],
   "source": [
    "from pydub import AudioSegment"
   ]
  },
  {
   "cell_type": "code",
   "execution_count": 2,
   "id": "66c71608-777f-4ef6-93bb-d6bccbe7b028",
   "metadata": {},
   "outputs": [
    {
     "name": "stdout",
     "output_type": "stream",
     "text": [
      "Frame Width: 2\n",
      "Sampling Rate: 24.0 kHz\n",
      "Bitrate: 384.0 kbps\n"
     ]
    }
   ],
   "source": [
    "# Load your audio file --- original LibriTTS dataset\n",
    "audio = AudioSegment.from_file(\"/workspace2/data-audio/libritts/LibriTTS/dev-clean/2035/147960/2035_147960_000002_000001.wav\")\n",
    "\n",
    "# Get sampling rate\n",
    "sampling_rate = audio.frame_rate\n",
    "\n",
    "# Get bitrate\n",
    "bitrate = audio.frame_width * audio.frame_rate * 8\n",
    "\n",
    "print(f\"Frame Width: {audio.frame_width}\")\n",
    "print(f\"Sampling Rate: {sampling_rate/1000} kHz\")\n",
    "print(f\"Bitrate: {bitrate/1000} kbps\")"
   ]
  },
  {
   "cell_type": "markdown",
   "id": "fb8bd215-2935-44fe-b954-3e4c8d68b911",
   "metadata": {},
   "source": [
    "## Processed\n",
    "- 16 kHz\n",
    "- those files in OpenASQA"
   ]
  },
  {
   "cell_type": "code",
   "execution_count": 3,
   "id": "2c9896bc-8e37-423f-b003-3ada8bf4e2e5",
   "metadata": {},
   "outputs": [
    {
     "name": "stdout",
     "output_type": "stream",
     "text": [
      "Frame Width: 2\n",
      "Sampling Rate: 16.0 kHz\n",
      "Bitrate: 256.0 kbps\n"
     ]
    }
   ],
   "source": [
    "# Load your audio file --- original LibriTTS dataset\n",
    "audio = AudioSegment.from_file(\"/dataset/audio-data/libritts/wav/100_121674_000023_000000.wav\")\n",
    "\n",
    "# Get sampling rate\n",
    "sampling_rate = audio.frame_rate\n",
    "\n",
    "# Get bitrate\n",
    "bitrate = audio.frame_width * audio.frame_rate * 8\n",
    "\n",
    "print(f\"Frame Width: {audio.frame_width}\")\n",
    "print(f\"Sampling Rate: {sampling_rate/1000} kHz\")\n",
    "print(f\"Bitrate: {bitrate/1000} kbps\")"
   ]
  },
  {
   "cell_type": "code",
   "execution_count": null,
   "id": "cc61c948-fbc7-4cd1-9738-7a9b70e772ec",
   "metadata": {},
   "outputs": [],
   "source": []
  }
 ],
 "metadata": {
  "kernelspec": {
   "display_name": "Python 3 (ipykernel)",
   "language": "python",
   "name": "python3"
  },
  "language_info": {
   "codemirror_mode": {
    "name": "ipython",
    "version": 3
   },
   "file_extension": ".py",
   "mimetype": "text/x-python",
   "name": "python",
   "nbconvert_exporter": "python",
   "pygments_lexer": "ipython3",
   "version": "3.9.19"
  }
 },
 "nbformat": 4,
 "nbformat_minor": 5
}
