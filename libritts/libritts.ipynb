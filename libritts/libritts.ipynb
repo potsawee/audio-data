{
 "cells": [
  {
   "cell_type": "code",
   "execution_count": 1,
   "id": "8ec29038-62d2-46c4-bafb-3017fde58a76",
   "metadata": {},
   "outputs": [],
   "source": [
    "from pydub import AudioSegment"
   ]
  },
  {
   "cell_type": "code",
   "execution_count": 4,
   "id": "66c71608-777f-4ef6-93bb-d6bccbe7b028",
   "metadata": {},
   "outputs": [],
   "source": [
    "# Load your audio file --- original LibriTTS dataset\n",
    "# audio = AudioSegment.from_file(\"/workspace2/data-audio/libritts/LibriTTS/dev-clean/2035/147960/2035_147960_000002_000001.wav\")\n",
    "\n",
    "# Get sampling rate\n",
    "# sampling_rate = audio.frame_rate\n",
    "\n",
    "# Get bitrate\n",
    "# bitrate = audio.frame_width * audio.frame_rate * 8\n",
    "\n",
    "# print(f\"Frame Width: {audio.frame_width}\")\n",
    "# print(f\"Sampling Rate: {sampling_rate/1000} kHz\")\n",
    "# print(f\"Bitrate: {bitrate/1000} kbps\")"
   ]
  },
  {
   "cell_type": "markdown",
   "id": "fb8bd215-2935-44fe-b954-3e4c8d68b911",
   "metadata": {},
   "source": [
    "## Processed\n",
    "- 16 kHz\n",
    "- those files in OpenASQA"
   ]
  },
  {
   "cell_type": "code",
   "execution_count": 5,
   "id": "2c9896bc-8e37-423f-b003-3ada8bf4e2e5",
   "metadata": {},
   "outputs": [
    {
     "name": "stdout",
     "output_type": "stream",
     "text": [
      "Frame Width: 2\n",
      "Sampling Rate: 16.0 kHz\n",
      "Bitrate: 256.0 kbps\n"
     ]
    }
   ],
   "source": [
    "# Load your audio file --- original LibriTTS dataset\n",
    "audio = AudioSegment.from_file(\"/dataset/audio-data/libritts/wav/100_121674_000023_000000.wav\")\n",
    "\n",
    "# Get sampling rate\n",
    "sampling_rate = audio.frame_rate\n",
    "\n",
    "# Get bitrate\n",
    "bitrate = audio.frame_width * audio.frame_rate * 8\n",
    "\n",
    "print(f\"Frame Width: {audio.frame_width}\")\n",
    "print(f\"Sampling Rate: {sampling_rate/1000} kHz\")\n",
    "print(f\"Bitrate: {bitrate/1000} kbps\")"
   ]
  },
  {
   "cell_type": "markdown",
   "id": "025b0c43-f9ea-4e88-82d5-9fd7a1f97176",
   "metadata": {},
   "source": [
    "# LTU-OpenAQA"
   ]
  },
  {
   "cell_type": "code",
   "execution_count": 9,
   "id": "a68925ea-32bb-46f0-9353-2a895ea7eef9",
   "metadata": {},
   "outputs": [],
   "source": [
    "import json\n",
    "import os\n",
    "from tqdm import tqdm"
   ]
  },
  {
   "cell_type": "code",
   "execution_count": 7,
   "id": "302437e2-30d6-4ffd-a135-b8a533c1d162",
   "metadata": {},
   "outputs": [],
   "source": [
    "with open(\"../ltu-openasqa/openasqa_10.3M_v2.json\") as f:\n",
    "    data = json.load(f)"
   ]
  },
  {
   "cell_type": "code",
   "execution_count": 8,
   "id": "a810adb5-5c8d-44a0-9c6e-f41ac1a51c3a",
   "metadata": {},
   "outputs": [],
   "source": [
    "with open(\"../ltu-openasqa/openasqa_10.3M_v2.thai.json\") as f:\n",
    "    data_thai = json.load(f)"
   ]
  },
  {
   "cell_type": "code",
   "execution_count": 17,
   "id": "e503dc48-b186-49ca-9f25-a81b42ae072a",
   "metadata": {},
   "outputs": [
    {
     "name": "stderr",
     "output_type": "stream",
     "text": [
      "100%|██████████████████████████████████████████████████████████████████████████████| 10324230/10324230 [00:06<00:00, 1514228.57it/s]\n"
     ]
    }
   ],
   "source": [
    "en_examples = []\n",
    "count0, count1 = 0, 0\n",
    "for x in tqdm(data):\n",
    "    if 'libritts' in x['dataset']:\n",
    "        wav_name = x['audio_id'].split(\"/\")[-1]\n",
    "        path = f\"/dataset/audio-data/libritts/wav/{wav_name}\"\n",
    "        if os.path.isfile(path) is False:\n",
    "            count0 += 1\n",
    "            continue\n",
    "        else:\n",
    "            count1 +=1\n",
    "        en_examples.append({\n",
    "            'path': path,\n",
    "            'task': \"QA\",\n",
    "            'Q': x['instruction'],\n",
    "            'text': x['output'],\n",
    "        })"
   ]
  },
  {
   "cell_type": "code",
   "execution_count": 18,
   "id": "835b3081-f361-4fee-86c3-743c19e50231",
   "metadata": {},
   "outputs": [
    {
     "data": {
      "text/plain": [
       "(13130, 512922)"
      ]
     },
     "execution_count": 18,
     "metadata": {},
     "output_type": "execute_result"
    }
   ],
   "source": [
    "count0, count1"
   ]
  },
  {
   "cell_type": "code",
   "execution_count": 19,
   "id": "41e09a50-f7ed-4c1c-b822-24f1fd2150cb",
   "metadata": {},
   "outputs": [
    {
     "data": {
      "text/plain": [
       "512922"
      ]
     },
     "execution_count": 19,
     "metadata": {},
     "output_type": "execute_result"
    }
   ],
   "source": [
    "len(en_examples)"
   ]
  },
  {
   "cell_type": "code",
   "execution_count": 20,
   "id": "0680e466-5243-49ed-8ce7-89fcd440d7fa",
   "metadata": {},
   "outputs": [],
   "source": [
    "with open(\"./train.en.json\", \"w\") as f:\n",
    "    json.dump(en_examples, f, indent=4)"
   ]
  },
  {
   "cell_type": "code",
   "execution_count": 21,
   "id": "7d6a4cd5-d1d0-4d20-87dd-8fcf78f00bdb",
   "metadata": {},
   "outputs": [
    {
     "name": "stderr",
     "output_type": "stream",
     "text": [
      "100%|██████████████████████████████████████████████████████████████████████████████| 10324230/10324230 [00:07<00:00, 1472357.37it/s]\n"
     ]
    }
   ],
   "source": [
    "th_examples = []\n",
    "count0, count1 = 0, 0\n",
    "for x in tqdm(data_thai):\n",
    "    if 'libritts' in x['dataset']:\n",
    "        wav_name = x['audio_id'].split(\"/\")[-1]\n",
    "        path = f\"/dataset/audio-data/libritts/wav/{wav_name}\"\n",
    "        if os.path.isfile(path) is False:\n",
    "            count0 += 1\n",
    "            continue\n",
    "        else:\n",
    "            count1 +=1\n",
    "        th_examples.append({\n",
    "            'path': path,\n",
    "            'task': \"QA\",\n",
    "            'Q': x['instruction'],\n",
    "            'text': x['output'],\n",
    "        })"
   ]
  },
  {
   "cell_type": "code",
   "execution_count": 24,
   "id": "0df9a31f-4e2c-46dc-b828-a19710453172",
   "metadata": {},
   "outputs": [],
   "source": [
    "with open(\"./train.th.json\", \"w\") as f:\n",
    "    json.dump(th_examples, f, indent=4, ensure_ascii=False)"
   ]
  }
 ],
 "metadata": {
  "kernelspec": {
   "display_name": "Python 3 (ipykernel)",
   "language": "python",
   "name": "python3"
  },
  "language_info": {
   "codemirror_mode": {
    "name": "ipython",
    "version": 3
   },
   "file_extension": ".py",
   "mimetype": "text/x-python",
   "name": "python",
   "nbconvert_exporter": "python",
   "pygments_lexer": "ipython3",
   "version": "3.9.19"
  }
 },
 "nbformat": 4,
 "nbformat_minor": 5
}
