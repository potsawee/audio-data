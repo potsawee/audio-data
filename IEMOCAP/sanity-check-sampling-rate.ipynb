{
 "cells": [
  {
   "cell_type": "code",
   "execution_count": 1,
   "id": "dc9671c0-1744-4381-b0f2-d9c1456797f6",
   "metadata": {},
   "outputs": [],
   "source": [
    "from pydub import AudioSegment"
   ]
  },
  {
   "cell_type": "code",
   "execution_count": 5,
   "id": "dbbafb1e-d14d-478e-8a2f-4d8348e1c21e",
   "metadata": {},
   "outputs": [
    {
     "name": "stdout",
     "output_type": "stream",
     "text": [
      "Frame Width: 2 (I think it's in Bytes)\n",
      "Sampling Rate: 16.0 kHz\n",
      "Bitrate: 256.0 kbps\n"
     ]
    }
   ],
   "source": [
    "# Load your audio file\n",
    "audio = AudioSegment.from_file(\"./wav/Ses04M_script03_2_M040.wav\")\n",
    "\n",
    "# Get sampling rate\n",
    "sampling_rate = audio.frame_rate\n",
    "\n",
    "# Get bitrate\n",
    "bitrate = audio.frame_width * audio.frame_rate * 8\n",
    "\n",
    "print(f\"Frame Width: {audio.frame_width} (I think it's in Bytes)\")\n",
    "print(f\"Sampling Rate: {sampling_rate/1000} kHz\")\n",
    "print(f\"Bitrate: {bitrate/1000} kbps\")"
   ]
  },
  {
   "cell_type": "code",
   "execution_count": null,
   "id": "8bf65082-ec8b-428c-8990-ef81a088bd1d",
   "metadata": {},
   "outputs": [],
   "source": []
  }
 ],
 "metadata": {
  "kernelspec": {
   "display_name": "Python 3 (ipykernel)",
   "language": "python",
   "name": "python3"
  },
  "language_info": {
   "codemirror_mode": {
    "name": "ipython",
    "version": 3
   },
   "file_extension": ".py",
   "mimetype": "text/x-python",
   "name": "python",
   "nbconvert_exporter": "python",
   "pygments_lexer": "ipython3",
   "version": "3.9.19"
  }
 },
 "nbformat": 4,
 "nbformat_minor": 5
}
