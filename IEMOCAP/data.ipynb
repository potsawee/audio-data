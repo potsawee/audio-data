{
 "cells": [
  {
   "cell_type": "code",
   "execution_count": 9,
   "id": "11ea9960-f554-4f33-874c-c8c28b68deca",
   "metadata": {},
   "outputs": [],
   "source": [
    "import json\n",
    "import os"
   ]
  },
  {
   "cell_type": "code",
   "execution_count": 2,
   "id": "bd473d31-da50-4926-acda-7337f81a45d0",
   "metadata": {},
   "outputs": [],
   "source": [
    "with open(\"../salmonn_data/salmonn_stage2_data.json\") as f:\n",
    "    data = json.load(f)\n",
    "data = data['annotation']"
   ]
  },
  {
   "cell_type": "code",
   "execution_count": 4,
   "id": "adf24223-04ba-4b2f-99e7-1363a69db404",
   "metadata": {},
   "outputs": [
    {
     "data": {
      "text/plain": [
       "4090"
      ]
     },
     "execution_count": 4,
     "metadata": {},
     "output_type": "execute_result"
    }
   ],
   "source": [
    "emotion_recognition = []\n",
    "for i in range(len(data)):\n",
    "    if data[i]['task'] == \"emotion_recognition\":\n",
    "        emotion_recognition.append(data[i])\n",
    "len(emotion_recognition)"
   ]
  },
  {
   "cell_type": "code",
   "execution_count": 11,
   "id": "1c2f81c7-e28d-4f52-83b7-81f7a719bcd0",
   "metadata": {},
   "outputs": [
    {
     "data": {
      "text/plain": [
       "{'path': '/IEMOCAP/IEMOCAP_full_release/Session2/sentences/wav/Ses02M_impro04/Ses02M_impro04_F005.wav',\n",
       " 'text': 'Neutral',\n",
       " 'task': 'emotion_recognition'}"
      ]
     },
     "execution_count": 11,
     "metadata": {},
     "output_type": "execute_result"
    }
   ],
   "source": [
    "emotion_recognition[0]"
   ]
  },
  {
   "cell_type": "code",
   "execution_count": 12,
   "id": "2a9e72a4-cb83-4f3a-adb8-c2dba5fafc4b",
   "metadata": {},
   "outputs": [],
   "source": [
    "train_data = []\n",
    "for i in range(len(emotion_recognition)):\n",
    "    x = emotion_recognition[i]\n",
    "    path = f\"/dataset/audio-data/IEMOCAP/wav/{x['path'].split('/')[-1]}\" \n",
    "    assert os.path.isfile(path)\n",
    "    train_data.append({\n",
    "        'path': path,\n",
    "        'text': x['text']\n",
    "    })"
   ]
  },
  {
   "cell_type": "code",
   "execution_count": null,
   "id": "61fa4b46-357a-42d3-a80e-cfda247aec47",
   "metadata": {},
   "outputs": [],
   "source": [
    "with open(\"./train.json\", \"w\") as f:\n",
    "    json.dump(train_data, f, indent=4)"
   ]
  },
  {
   "cell_type": "markdown",
   "id": "f6f1af4e-0e01-41f1-a9ed-fab009b529fc",
   "metadata": {},
   "source": [
    "## LTU-OpenAQA"
   ]
  },
  {
   "cell_type": "code",
   "execution_count": 15,
   "id": "5d6fc468-3370-4e0a-b447-fe237a6d9822",
   "metadata": {},
   "outputs": [],
   "source": [
    "import json\n",
    "import os\n",
    "from tqdm import tqdm"
   ]
  },
  {
   "cell_type": "code",
   "execution_count": 16,
   "id": "a00fc900-4b62-4eba-afd9-916179c28e80",
   "metadata": {},
   "outputs": [],
   "source": [
    "with open(\"../ltu-openasqa/openasqa_10.3M_v2.json\") as f:\n",
    "    data = json.load(f)"
   ]
  },
  {
   "cell_type": "code",
   "execution_count": 17,
   "id": "fd265d18-cb41-4a5e-b3dd-20c26d5c0b14",
   "metadata": {},
   "outputs": [],
   "source": [
    "with open(\"../ltu-openasqa/openasqa_10.3M_v2.thai.json\") as f:\n",
    "    data_thai = json.load(f)"
   ]
  },
  {
   "cell_type": "code",
   "execution_count": 20,
   "id": "8725a94e-bcc5-49c8-8313-4e0ef0fac5a3",
   "metadata": {},
   "outputs": [
    {
     "name": "stderr",
     "output_type": "stream",
     "text": [
      "100%|██████████████████████████████████████████████████████████████████████████████| 10324230/10324230 [00:04<00:00, 2418130.74it/s]\n"
     ]
    }
   ],
   "source": [
    "en_examples = []\n",
    "count0, count1 = 0, 0\n",
    "for x in tqdm(data):\n",
    "    if 'iemocap' in x['dataset']:\n",
    "        wav_name = x['audio_id'].split(\"/\")[-1]\n",
    "        path = f\"/dataset/audio-data/IEMOCAP/wav/{wav_name}\"\n",
    "        if os.path.isfile(path) is False:\n",
    "            count0 += 1\n",
    "            continue\n",
    "        else:\n",
    "            count1 +=1\n",
    "        en_examples.append({\n",
    "            'path': path,\n",
    "            'task': \"QA\",\n",
    "            'Q': x['instruction'],\n",
    "            'text': x['output'],\n",
    "        })"
   ]
  },
  {
   "cell_type": "code",
   "execution_count": 21,
   "id": "4e44e15e-dad4-4159-825b-af686565268e",
   "metadata": {},
   "outputs": [
    {
     "data": {
      "text/plain": [
       "(0, 21450)"
      ]
     },
     "execution_count": 21,
     "metadata": {},
     "output_type": "execute_result"
    }
   ],
   "source": [
    "count0, count1"
   ]
  },
  {
   "cell_type": "code",
   "execution_count": 22,
   "id": "0403417d-c701-4bbd-b9e9-3e56943e1020",
   "metadata": {},
   "outputs": [
    {
     "data": {
      "text/plain": [
       "21450"
      ]
     },
     "execution_count": 22,
     "metadata": {},
     "output_type": "execute_result"
    }
   ],
   "source": [
    "len(en_examples)"
   ]
  },
  {
   "cell_type": "code",
   "execution_count": 23,
   "id": "8160baee-2764-4c74-bf9f-d453a0df9d37",
   "metadata": {},
   "outputs": [],
   "source": [
    "with open(\"./train.en.json\", \"w\") as f:\n",
    "    json.dump(en_examples, f, indent=4)"
   ]
  },
  {
   "cell_type": "code",
   "execution_count": 24,
   "id": "8608728f-badf-4add-b38b-873d3dab8aef",
   "metadata": {},
   "outputs": [
    {
     "name": "stderr",
     "output_type": "stream",
     "text": [
      "100%|██████████████████████████████████████████████████████████████████████████████| 10324230/10324230 [00:04<00:00, 2416240.13it/s]\n"
     ]
    }
   ],
   "source": [
    "th_examples = []\n",
    "count0, count1 = 0, 0\n",
    "for x in tqdm(data_thai):\n",
    "    if 'iemocap' in x['dataset']:\n",
    "        wav_name = x['audio_id'].split(\"/\")[-1]\n",
    "        path = f\"/dataset/audio-data/IEMOCAP/wav/{wav_name}\"\n",
    "        if os.path.isfile(path) is False:\n",
    "            count0 += 1\n",
    "            continue\n",
    "        else:\n",
    "            count1 +=1\n",
    "        th_examples.append({\n",
    "            'path': path,\n",
    "            'task': \"QA\",\n",
    "            'Q': x['instruction'],\n",
    "            'text': x['output'],\n",
    "        })"
   ]
  },
  {
   "cell_type": "code",
   "execution_count": 25,
   "id": "e1cc602f-13a3-4163-a59f-e8b2b16387ad",
   "metadata": {},
   "outputs": [],
   "source": [
    "with open(\"./train.th.json\", \"w\") as f:\n",
    "    json.dump(th_examples, f, indent=4, ensure_ascii=False)"
   ]
  }
 ],
 "metadata": {
  "kernelspec": {
   "display_name": "Python 3 (ipykernel)",
   "language": "python",
   "name": "python3"
  },
  "language_info": {
   "codemirror_mode": {
    "name": "ipython",
    "version": 3
   },
   "file_extension": ".py",
   "mimetype": "text/x-python",
   "name": "python",
   "nbconvert_exporter": "python",
   "pygments_lexer": "ipython3",
   "version": "3.9.19"
  }
 },
 "nbformat": 4,
 "nbformat_minor": 5
}
