{
 "cells": [
  {
   "cell_type": "code",
   "execution_count": 9,
   "id": "11ea9960-f554-4f33-874c-c8c28b68deca",
   "metadata": {},
   "outputs": [],
   "source": [
    "import json\n",
    "import os"
   ]
  },
  {
   "cell_type": "code",
   "execution_count": 2,
   "id": "bd473d31-da50-4926-acda-7337f81a45d0",
   "metadata": {},
   "outputs": [],
   "source": [
    "with open(\"../salmonn_data/salmonn_stage2_data.json\") as f:\n",
    "    data = json.load(f)\n",
    "data = data['annotation']"
   ]
  },
  {
   "cell_type": "code",
   "execution_count": 4,
   "id": "adf24223-04ba-4b2f-99e7-1363a69db404",
   "metadata": {},
   "outputs": [
    {
     "data": {
      "text/plain": [
       "4090"
      ]
     },
     "execution_count": 4,
     "metadata": {},
     "output_type": "execute_result"
    }
   ],
   "source": [
    "emotion_recognition = []\n",
    "for i in range(len(data)):\n",
    "    if data[i]['task'] == \"emotion_recognition\":\n",
    "        emotion_recognition.append(data[i])\n",
    "len(emotion_recognition)"
   ]
  },
  {
   "cell_type": "code",
   "execution_count": 11,
   "id": "1c2f81c7-e28d-4f52-83b7-81f7a719bcd0",
   "metadata": {},
   "outputs": [
    {
     "data": {
      "text/plain": [
       "{'path': '/IEMOCAP/IEMOCAP_full_release/Session2/sentences/wav/Ses02M_impro04/Ses02M_impro04_F005.wav',\n",
       " 'text': 'Neutral',\n",
       " 'task': 'emotion_recognition'}"
      ]
     },
     "execution_count": 11,
     "metadata": {},
     "output_type": "execute_result"
    }
   ],
   "source": [
    "emotion_recognition[0]"
   ]
  },
  {
   "cell_type": "code",
   "execution_count": 12,
   "id": "2a9e72a4-cb83-4f3a-adb8-c2dba5fafc4b",
   "metadata": {},
   "outputs": [],
   "source": [
    "train_data = []\n",
    "for i in range(len(emotion_recognition)):\n",
    "    x = emotion_recognition[i]\n",
    "    path = f\"/dataset/audio-data/IEMOCAP/wav/{x['path'].split('/')[-1]}\" \n",
    "    assert os.path.isfile(path)\n",
    "    train_data.append({\n",
    "        'path': path,\n",
    "        'text': x['text']\n",
    "    })"
   ]
  },
  {
   "cell_type": "code",
   "execution_count": 14,
   "id": "1c9ce09f-8766-4326-854f-062243ad69df",
   "metadata": {},
   "outputs": [],
   "source": [
    "with open(\"./train.json\", \"w\") as f:\n",
    "    json.dump(train_data, f, indent=4)"
   ]
  }
 ],
 "metadata": {
  "kernelspec": {
   "display_name": "Python 3 (ipykernel)",
   "language": "python",
   "name": "python3"
  },
  "language_info": {
   "codemirror_mode": {
    "name": "ipython",
    "version": 3
   },
   "file_extension": ".py",
   "mimetype": "text/x-python",
   "name": "python",
   "nbconvert_exporter": "python",
   "pygments_lexer": "ipython3",
   "version": "3.9.19"
  }
 },
 "nbformat": 4,
 "nbformat_minor": 5
}
