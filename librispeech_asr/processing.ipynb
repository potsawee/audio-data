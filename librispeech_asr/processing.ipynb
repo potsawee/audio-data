{
 "cells": [
  {
   "cell_type": "code",
   "execution_count": 33,
   "id": "eddbcaf2-7dc0-4488-964b-4319f9a0f9e0",
   "metadata": {},
   "outputs": [],
   "source": [
    "import os\n",
    "import json\n",
    "from glob import glob\n",
    "from tqdm import tqdm"
   ]
  },
  {
   "cell_type": "code",
   "execution_count": 39,
   "id": "e4e3767b-d4bc-46b6-a562-09788d859ee5",
   "metadata": {},
   "outputs": [],
   "source": [
    "def process(root, output_path):\n",
    "    data = []\n",
    "    for path0 in tqdm(glob(root + \"/*\")):\n",
    "        for path in glob(path0 + \"/*\"):\n",
    "            x = path.split(\"/\")\n",
    "            transcript_path = f\"{path}/{x[-2]}-{x[-1]}.trans.txt\"\n",
    "            with open(transcript_path) as f:\n",
    "                lines = f.readlines()\n",
    "            for line in lines:\n",
    "                file_id, transcript = line.split(\" \", 1)\n",
    "                transcript = transcript.strip().lower().capitalize()\n",
    "                file_path = os.path.abspath(f\"{path}/{file_id}.flac\")\n",
    "                assert os.path.isfile(file_path)\n",
    "    \n",
    "                data.append({\n",
    "                    'path': file_path,\n",
    "                    'text': transcript,\n",
    "                })\n",
    "    print(\"len(data):\", len(data))\n",
    "    with open(output_path, \"w\") as f:\n",
    "        json.dump(data, f, indent=4)\n",
    "    print(\"write:\", output_path)"
   ]
  },
  {
   "cell_type": "code",
   "execution_count": 42,
   "id": "80507f87-5ffb-40c9-9797-5327849c1932",
   "metadata": {},
   "outputs": [
    {
     "name": "stderr",
     "output_type": "stream",
     "text": [
      "100%|█████████████████████████████████████████████████████████████████████████████████████████████████| 1166/1166 [00:01<00:00, 846.44it/s]\n"
     ]
    },
    {
     "name": "stdout",
     "output_type": "stream",
     "text": [
      "len(data): 148688\n",
      "write: ./train-other-500.json\n"
     ]
    }
   ],
   "source": [
    "process(root=\"./LibriSpeech/train-other-500\", output_path=\"./train-other-500.json\")"
   ]
  },
  {
   "cell_type": "code",
   "execution_count": 43,
   "id": "cf56097e-1803-474a-abb5-f7386395e905",
   "metadata": {},
   "outputs": [
    {
     "name": "stderr",
     "output_type": "stream",
     "text": [
      "100%|███████████████████████████████████████████████████████████████████████████████████████████████████| 921/921 [00:01<00:00, 911.71it/s]\n"
     ]
    },
    {
     "name": "stdout",
     "output_type": "stream",
     "text": [
      "len(data): 104014\n",
      "write: ./train-clean-360.json\n"
     ]
    }
   ],
   "source": [
    "process(root=\"./LibriSpeech/train-clean-360\", output_path=\"./train-clean-360.json\")"
   ]
  },
  {
   "cell_type": "code",
   "execution_count": 44,
   "id": "09b1fde5-1742-4cc6-a4e1-76ed30ffb61f",
   "metadata": {},
   "outputs": [
    {
     "name": "stderr",
     "output_type": "stream",
     "text": [
      "100%|███████████████████████████████████████████████████████████████████████████████████████████████████| 251/251 [00:00<00:00, 965.81it/s]\n"
     ]
    },
    {
     "name": "stdout",
     "output_type": "stream",
     "text": [
      "len(data): 28539\n",
      "write: ./train-clean-100.json\n"
     ]
    }
   ],
   "source": [
    "process(root=\"./LibriSpeech/train-clean-100\", output_path=\"./train-clean-100.json\")"
   ]
  },
  {
   "cell_type": "code",
   "execution_count": 40,
   "id": "34a57d87-78fa-4339-83ff-c117b9452dee",
   "metadata": {},
   "outputs": [
    {
     "name": "stderr",
     "output_type": "stream",
     "text": [
      "100%|████████████████████████████████████████████████████████████████████████████████████████████████████| 40/40 [00:00<00:00, 1497.19it/s]"
     ]
    },
    {
     "name": "stdout",
     "output_type": "stream",
     "text": [
      "len(data): 2703\n",
      "write: ./dev-clean.json\n"
     ]
    },
    {
     "name": "stderr",
     "output_type": "stream",
     "text": [
      "\n"
     ]
    }
   ],
   "source": [
    "process(root=\"./LibriSpeech/dev-clean\", output_path=\"./dev-clean.json\")"
   ]
  },
  {
   "cell_type": "code",
   "execution_count": 41,
   "id": "8dc5f332-1744-475e-ab51-e32f3862bbeb",
   "metadata": {},
   "outputs": [
    {
     "name": "stderr",
     "output_type": "stream",
     "text": [
      "100%|████████████████████████████████████████████████████████████████████████████████████████████████████| 33/33 [00:00<00:00, 1262.08it/s]"
     ]
    },
    {
     "name": "stdout",
     "output_type": "stream",
     "text": [
      "len(data): 2864\n",
      "write: ./dev-other.json\n"
     ]
    },
    {
     "name": "stderr",
     "output_type": "stream",
     "text": [
      "\n"
     ]
    }
   ],
   "source": [
    "process(root=\"./LibriSpeech/dev-other\", output_path=\"./dev-other.json\")"
   ]
  },
  {
   "cell_type": "code",
   "execution_count": 45,
   "id": "ebf631ba-ce6f-4118-b825-d92526a67dde",
   "metadata": {},
   "outputs": [
    {
     "name": "stderr",
     "output_type": "stream",
     "text": [
      "100%|████████████████████████████████████████████████████████████████████████████████████████████████████| 40/40 [00:00<00:00, 1655.60it/s]"
     ]
    },
    {
     "name": "stdout",
     "output_type": "stream",
     "text": [
      "len(data): 2620\n",
      "write: ./test-clean.json\n"
     ]
    },
    {
     "name": "stderr",
     "output_type": "stream",
     "text": [
      "\n"
     ]
    }
   ],
   "source": [
    "process(root=\"./LibriSpeech/test-clean\", output_path=\"./test-clean.json\")"
   ]
  },
  {
   "cell_type": "code",
   "execution_count": 46,
   "id": "1f73b0a1-39a3-4ee6-8271-3ac647714c4b",
   "metadata": {},
   "outputs": [
    {
     "name": "stderr",
     "output_type": "stream",
     "text": [
      "100%|████████████████████████████████████████████████████████████████████████████████████████████████████| 33/33 [00:00<00:00, 1261.47it/s]"
     ]
    },
    {
     "name": "stdout",
     "output_type": "stream",
     "text": [
      "len(data): 2939\n",
      "write: ./test-other.json\n"
     ]
    },
    {
     "name": "stderr",
     "output_type": "stream",
     "text": [
      "\n"
     ]
    }
   ],
   "source": [
    "process(root=\"./LibriSpeech/test-other\", output_path=\"./test-other.json\")"
   ]
  }
 ],
 "metadata": {
  "kernelspec": {
   "display_name": "Python 3 (ipykernel)",
   "language": "python",
   "name": "python3"
  },
  "language_info": {
   "codemirror_mode": {
    "name": "ipython",
    "version": 3
   },
   "file_extension": ".py",
   "mimetype": "text/x-python",
   "name": "python",
   "nbconvert_exporter": "python",
   "pygments_lexer": "ipython3",
   "version": "3.9.19"
  }
 },
 "nbformat": 4,
 "nbformat_minor": 5
}
