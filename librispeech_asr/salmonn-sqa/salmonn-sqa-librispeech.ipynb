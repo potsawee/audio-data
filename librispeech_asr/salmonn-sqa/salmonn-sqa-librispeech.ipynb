{
 "cells": [
  {
   "cell_type": "code",
   "execution_count": 13,
   "id": "265a190d-9807-47e7-895f-103d42ce3f29",
   "metadata": {},
   "outputs": [],
   "source": [
    "import json\n",
    "import os"
   ]
  },
  {
   "cell_type": "code",
   "execution_count": 3,
   "id": "8e0d220a-d0dd-4f9f-8bac-4da1e85d2e97",
   "metadata": {},
   "outputs": [],
   "source": [
    "with open(\"../../salmonn_data/salmonn_stage2_data.json\") as f:\n",
    "    data = json.load(f)"
   ]
  },
  {
   "cell_type": "code",
   "execution_count": 4,
   "id": "8a97043b-e56a-474f-8213-3e1153f0a430",
   "metadata": {},
   "outputs": [
    {
     "data": {
      "text/plain": [
       "2390842"
      ]
     },
     "execution_count": 4,
     "metadata": {},
     "output_type": "execute_result"
    }
   ],
   "source": [
    "data = data['annotation']\n",
    "len(data)"
   ]
  },
  {
   "cell_type": "code",
   "execution_count": 19,
   "id": "6d037c23-6bb7-45ed-b3cb-8815e705c70e",
   "metadata": {},
   "outputs": [],
   "source": [
    "data_qa  = []\n",
    "for i in range(len(data)):\n",
    "    if data[i]['task'] != \"QA\":\n",
    "        continue\n",
    "    x = data[i]['path'].split(\"/\")[1]\n",
    "    if x != \"LibriSpeech\":\n",
    "        continue\n",
    "    path = f\"/dataset/audio-data/librispeech_asr/{data[i]['path']}\"\n",
    "    assert os.path.isfile(path)\n",
    "    data_qa.append({\n",
    "        'path': path,\n",
    "        'text': data[i]['text'],\n",
    "        'task': \"QA\",\n",
    "        'Q': data[i]['Q'],\n",
    "    })"
   ]
  },
  {
   "cell_type": "code",
   "execution_count": 20,
   "id": "03585013-8f94-4495-8c3c-eb2b6f14e0a0",
   "metadata": {},
   "outputs": [
    {
     "data": {
      "text/plain": [
       "281037"
      ]
     },
     "execution_count": 20,
     "metadata": {},
     "output_type": "execute_result"
    }
   ],
   "source": [
    "len(data_qa)"
   ]
  },
  {
   "cell_type": "code",
   "execution_count": 21,
   "id": "bb046331-40c8-4eb0-8112-0aef813694fe",
   "metadata": {},
   "outputs": [],
   "source": [
    "with open(\"./train.json\", \"w\") as f:\n",
    "    json.dump(data_qa, f, indent=4)"
   ]
  },
  {
   "cell_type": "code",
   "execution_count": null,
   "id": "b1b64cdf-1f54-4531-8b3c-54b1b0926b6e",
   "metadata": {},
   "outputs": [],
   "source": []
  }
 ],
 "metadata": {
  "kernelspec": {
   "display_name": "Python 3 (ipykernel)",
   "language": "python",
   "name": "python3"
  },
  "language_info": {
   "codemirror_mode": {
    "name": "ipython",
    "version": 3
   },
   "file_extension": ".py",
   "mimetype": "text/x-python",
   "name": "python",
   "nbconvert_exporter": "python",
   "pygments_lexer": "ipython3",
   "version": "3.9.19"
  }
 },
 "nbformat": 4,
 "nbformat_minor": 5
}
