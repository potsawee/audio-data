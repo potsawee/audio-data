{
 "cells": [
  {
   "cell_type": "code",
   "execution_count": 1,
   "id": "b3236efc-6112-49e8-8872-58f0602b7978",
   "metadata": {},
   "outputs": [],
   "source": [
    "from pydub import AudioSegment"
   ]
  },
  {
   "cell_type": "code",
   "execution_count": 2,
   "id": "94d90481-b6a1-4d0a-b357-f1766bfa98e1",
   "metadata": {},
   "outputs": [
    {
     "name": "stdout",
     "output_type": "stream",
     "text": [
      "Frame Width: 8 (I think it's in Bytes)\n",
      "Sampling Rate: 48.0 kHz\n",
      "Bitrate: 3072.0 kbps\n"
     ]
    }
   ],
   "source": [
    "# Load your audio file\n",
    "audio = AudioSegment.from_file(\"./audio/bal_train/--cB2ZVjpnA.flac\")\n",
    "\n",
    "# Get sampling rate\n",
    "sampling_rate = audio.frame_rate\n",
    "\n",
    "# Get bitrate\n",
    "bitrate = audio.frame_width * audio.frame_rate * 8\n",
    "\n",
    "print(f\"Frame Width: {audio.frame_width} (I think it's in Bytes)\")\n",
    "print(f\"Sampling Rate: {sampling_rate/1000} kHz\")\n",
    "print(f\"Bitrate: {bitrate/1000} kbps\")"
   ]
  },
  {
   "cell_type": "markdown",
   "id": "1af92533-9c6b-422f-bc61-493d76586c6b",
   "metadata": {},
   "source": [
    "## Resample sanity check"
   ]
  },
  {
   "cell_type": "code",
   "execution_count": 3,
   "id": "5d49e69c-b181-4b0a-a206-75025996eab3",
   "metadata": {},
   "outputs": [
    {
     "data": {
      "text/plain": [
       "<_io.BufferedRandom name='test.flac'>"
      ]
     },
     "execution_count": 3,
     "metadata": {},
     "output_type": "execute_result"
    }
   ],
   "source": [
    "# Load the FLAC file\n",
    "audio = AudioSegment.from_file(\"./audio/bal_train/--cB2ZVjpnA.flac\", format=\"flac\")\n",
    "\n",
    "# Resample the audio to 16kHz\n",
    "resampled_audio = audio.set_frame_rate(16000)\n",
    "\n",
    "# Export the resampled audio\n",
    "resampled_audio.export(\"test.flac\", format=\"flac\")"
   ]
  },
  {
   "cell_type": "code",
   "execution_count": 4,
   "id": "8dc7c5f2-486a-4b42-a7a6-5476fc31e8de",
   "metadata": {},
   "outputs": [
    {
     "name": "stdout",
     "output_type": "stream",
     "text": [
      "Frame Width: 8 (I think it's in Bytes)\n",
      "Sampling Rate: 16.0 kHz\n",
      "Bitrate: 1024.0 kbps\n"
     ]
    }
   ],
   "source": [
    "# Load your audio file\n",
    "audio = AudioSegment.from_file(\"test.flac\")\n",
    "\n",
    "# Get sampling rate\n",
    "sampling_rate = audio.frame_rate\n",
    "\n",
    "# Get bitrate\n",
    "bitrate = audio.frame_width * audio.frame_rate * 8\n",
    "\n",
    "print(f\"Frame Width: {audio.frame_width} (I think it's in Bytes)\")\n",
    "print(f\"Sampling Rate: {sampling_rate/1000} kHz\")\n",
    "print(f\"Bitrate: {bitrate/1000} kbps\")"
   ]
  },
  {
   "cell_type": "code",
   "execution_count": 29,
   "id": "7df23047-2991-423f-be84-0c15fa86769a",
   "metadata": {},
   "outputs": [
    {
     "name": "stdout",
     "output_type": "stream",
     "text": [
      "Frame Width: 8 (I think it's in Bytes)\n",
      "Sampling Rate: 16.0 kHz\n",
      "Bitrate: 1024.0 kbps\n"
     ]
    }
   ],
   "source": [
    "# Load your audio file\n",
    "audio = AudioSegment.from_file(\"flac_16kHz/-i-9C48tduw.flac\")\n",
    "\n",
    "# Get sampling rate\n",
    "sampling_rate = audio.frame_rate\n",
    "\n",
    "# Get bitrate\n",
    "bitrate = audio.frame_width * audio.frame_rate * 8\n",
    "\n",
    "print(f\"Frame Width: {audio.frame_width} (I think it's in Bytes)\")\n",
    "print(f\"Sampling Rate: {sampling_rate/1000} kHz\")\n",
    "print(f\"Bitrate: {bitrate/1000} kbps\")"
   ]
  },
  {
   "cell_type": "markdown",
   "id": "d34d27c0-bb42-4f2d-8998-dfcfffd28118",
   "metadata": {},
   "source": [
    "## LTU Open-QA"
   ]
  },
  {
   "cell_type": "code",
   "execution_count": 10,
   "id": "774c9b26-dca9-480d-8a89-31bdbdfc79ef",
   "metadata": {},
   "outputs": [],
   "source": [
    "import json\n",
    "from tqdm import tqdm"
   ]
  },
  {
   "cell_type": "code",
   "execution_count": 6,
   "id": "2e19444d-8132-459b-95d0-1bcb22dae588",
   "metadata": {},
   "outputs": [],
   "source": [
    "with open(\"../ltu-openasqa/openasqa_10.3M_v2.json\") as f:\n",
    "    all_data = json.load(f)"
   ]
  },
  {
   "cell_type": "code",
   "execution_count": 7,
   "id": "892614b2-5fdc-459c-b20a-c20f1160463a",
   "metadata": {},
   "outputs": [
    {
     "data": {
      "text/plain": [
       "10324230"
      ]
     },
     "execution_count": 7,
     "metadata": {},
     "output_type": "execute_result"
    }
   ],
   "source": [
    "len(all_data)"
   ]
  },
  {
   "cell_type": "code",
   "execution_count": 17,
   "id": "bd2b0b76-d957-45f3-901e-0db615e05afe",
   "metadata": {},
   "outputs": [
    {
     "name": "stderr",
     "output_type": "stream",
     "text": [
      "100%|██████████████████████████████████████████████████████████████████████████████| 10324230/10324230 [00:05<00:00, 1990711.01it/s]\n"
     ]
    }
   ],
   "source": [
    "audioset_data = []\n",
    "for x in tqdm(all_data):\n",
    "    if \"audioset/dave_version\" in x['audio_id']: \n",
    "        audioset_data.append(x)"
   ]
  },
  {
   "cell_type": "code",
   "execution_count": 19,
   "id": "a6f14348-0f62-4c6e-ac60-4b01234d5d29",
   "metadata": {},
   "outputs": [
    {
     "data": {
      "text/plain": [
       "4309357"
      ]
     },
     "execution_count": 19,
     "metadata": {},
     "output_type": "execute_result"
    }
   ],
   "source": [
    "len(audioset_data)"
   ]
  },
  {
   "cell_type": "code",
   "execution_count": 25,
   "id": "c69d0680-b83f-42bf-8534-57fd014b6be5",
   "metadata": {},
   "outputs": [
    {
     "name": "stderr",
     "output_type": "stream",
     "text": [
      "100%|█████████████████████████████████████████████████████████████████████████████████| 4309357/4309357 [00:05<00:00, 800883.27it/s]\n"
     ]
    }
   ],
   "source": [
    "flac_names = set()\n",
    "for x in tqdm(audioset_data):\n",
    "    flac_name = x['audio_id'].split(\"/\")[-1]\n",
    "    flac_names.add(flac_name)"
   ]
  },
  {
   "cell_type": "code",
   "execution_count": 26,
   "id": "7636949b-f0a0-4f09-a08b-c88facbae49e",
   "metadata": {},
   "outputs": [
    {
     "data": {
      "text/plain": [
       "523258"
      ]
     },
     "execution_count": 26,
     "metadata": {},
     "output_type": "execute_result"
    }
   ],
   "source": [
    "len(flac_names)"
   ]
  },
  {
   "cell_type": "code",
   "execution_count": 27,
   "id": "6e470ca4-1a9b-43a7-bda1-fdedcd83f335",
   "metadata": {},
   "outputs": [],
   "source": [
    "flac_names = list(flac_names)"
   ]
  },
  {
   "cell_type": "code",
   "execution_count": 28,
   "id": "6357ccbe-42ed-4a03-be81-830209730381",
   "metadata": {},
   "outputs": [],
   "source": [
    "with open(\"ltu-audioset-ids.txt\", \"w\") as f:\n",
    "    f.write(\"\\n\".join(flac_names))"
   ]
  },
  {
   "cell_type": "markdown",
   "id": "2799e67d-a762-45a2-8573-d82cb7cd7ea2",
   "metadata": {},
   "source": [
    "# Write a run script"
   ]
  },
  {
   "cell_type": "code",
   "execution_count": 34,
   "id": "688b3377-cb41-4bd3-b462-6944e90b64db",
   "metadata": {},
   "outputs": [],
   "source": [
    "def write(path, start_id, end_id):\n",
    "    # [start_id, end_id)\n",
    "    text = \"\"\n",
    "    text += \"#!/bin/bash\\n\"\n",
    "    text += \"#$ -S /bin/bash\\n\\n\"\n",
    "    text += \"export HF_DATASETS_CACHE=/cache/.cache/huggingface/datasets\\n\"\n",
    "    text += \"export HF_HOME=/cache/.cache/huggingface\\n\"\n",
    "    text += \"export HF_HUB_CACHE=/cache/.cache/huggingface/hub\\n\\n\"\n",
    "    for i in range(start_id, end_id):\n",
    "        text += \"python download_filter_resample.py unbal_train{:03}\\n\".format(i)\n",
    "    # print(text)\n",
    "    with open(path, \"w\") as f:\n",
    "        f.write(text)"
   ]
  },
  {
   "cell_type": "code",
   "execution_count": 35,
   "id": "32c4723e-b14d-4af7-9b36-59c8563503e4",
   "metadata": {},
   "outputs": [],
   "source": [
    "write(\"./run_download_unbal_0.sh\", 0, 100)"
   ]
  },
  {
   "cell_type": "code",
   "execution_count": 36,
   "id": "1fd352e0-dcf2-463d-b850-d322df0135aa",
   "metadata": {},
   "outputs": [],
   "source": [
    "write(\"./run_download_unbal_1.sh\", 100, 200)"
   ]
  },
  {
   "cell_type": "code",
   "execution_count": 37,
   "id": "98afeaa9-9c02-4ff3-ab2e-88b36afafcf7",
   "metadata": {},
   "outputs": [],
   "source": [
    "write(\"./run_download_unbal_2.sh\", 200, 300)"
   ]
  },
  {
   "cell_type": "code",
   "execution_count": 38,
   "id": "34f914da-cf23-44fe-b17c-081a8277277e",
   "metadata": {},
   "outputs": [],
   "source": [
    "write(\"./run_download_unbal_3.sh\", 300, 400)"
   ]
  },
  {
   "cell_type": "code",
   "execution_count": 39,
   "id": "fb854028-86cd-4eb2-8132-cbd70f51b248",
   "metadata": {},
   "outputs": [],
   "source": [
    "write(\"./run_download_unbal_4.sh\", 400, 500)"
   ]
  },
  {
   "cell_type": "code",
   "execution_count": 40,
   "id": "428921b4-12fe-468e-abcf-ea6f57031793",
   "metadata": {},
   "outputs": [],
   "source": [
    "write(\"./run_download_unbal_5.sh\", 500, 600)"
   ]
  },
  {
   "cell_type": "code",
   "execution_count": 41,
   "id": "510ae60d-c48a-468a-ac51-cb4ad7706b62",
   "metadata": {},
   "outputs": [],
   "source": [
    "write(\"./run_download_unbal_6.sh\", 600, 700)"
   ]
  },
  {
   "cell_type": "code",
   "execution_count": 42,
   "id": "e89092e3-729d-49f8-af61-dc96c21db882",
   "metadata": {},
   "outputs": [],
   "source": [
    "write(\"./run_download_unbal_7.sh\", 700, 800)"
   ]
  },
  {
   "cell_type": "code",
   "execution_count": 43,
   "id": "6a28bb88-e201-4077-a018-d8d10f4fd3ef",
   "metadata": {},
   "outputs": [],
   "source": [
    "write(\"./run_download_unbal_8.sh\", 800, 870)"
   ]
  }
 ],
 "metadata": {
  "kernelspec": {
   "display_name": "Python 3 (ipykernel)",
   "language": "python",
   "name": "python3"
  },
  "language_info": {
   "codemirror_mode": {
    "name": "ipython",
    "version": 3
   },
   "file_extension": ".py",
   "mimetype": "text/x-python",
   "name": "python",
   "nbconvert_exporter": "python",
   "pygments_lexer": "ipython3",
   "version": "3.9.19"
  }
 },
 "nbformat": 4,
 "nbformat_minor": 5
}
