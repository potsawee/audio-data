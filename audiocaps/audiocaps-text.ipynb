{
 "cells": [
  {
   "cell_type": "code",
   "execution_count": 1,
   "id": "725d678a-3fe5-45d8-9f14-7641e993cd2e",
   "metadata": {},
   "outputs": [],
   "source": [
    "from tqdm import tqdm\n",
    "import json"
   ]
  },
  {
   "cell_type": "code",
   "execution_count": 2,
   "id": "23a78fdc-7c78-4c2b-828c-ea30a0928896",
   "metadata": {},
   "outputs": [
    {
     "name": "stderr",
     "output_type": "stream",
     "text": [
      "/cache/miniconda3/envs/exp-punpun0/lib/python3.9/site-packages/tqdm/auto.py:21: TqdmWarning: IProgress not found. Please update jupyter and ipywidgets. See https://ipywidgets.readthedocs.io/en/stable/user_install.html\n",
      "  from .autonotebook import tqdm as notebook_tqdm\n"
     ]
    }
   ],
   "source": [
    "from datasets import load_dataset\n",
    "dataset = load_dataset(\"d0rj/audiocaps\")"
   ]
  },
  {
   "cell_type": "code",
   "execution_count": 3,
   "id": "32d2519c-2d51-4959-8cd4-a3e24f5dc983",
   "metadata": {},
   "outputs": [
    {
     "data": {
      "text/plain": [
       "DatasetDict({\n",
       "    train: Dataset({\n",
       "        features: ['audiocap_id', 'youtube_id', 'start_time', 'caption'],\n",
       "        num_rows: 49838\n",
       "    })\n",
       "    validation: Dataset({\n",
       "        features: ['audiocap_id', 'youtube_id', 'start_time', 'caption'],\n",
       "        num_rows: 2475\n",
       "    })\n",
       "    test: Dataset({\n",
       "        features: ['audiocap_id', 'youtube_id', 'start_time', 'caption'],\n",
       "        num_rows: 4875\n",
       "    })\n",
       "})"
      ]
     },
     "execution_count": 3,
     "metadata": {},
     "output_type": "execute_result"
    }
   ],
   "source": [
    "dataset"
   ]
  },
  {
   "cell_type": "code",
   "execution_count": 4,
   "id": "24dbc8dd-d4a8-42be-90c9-30629839e6e9",
   "metadata": {},
   "outputs": [],
   "source": [
    "train = dataset['train']\n",
    "validation = dataset['validation']\n",
    "test = dataset['test']"
   ]
  },
  {
   "cell_type": "code",
   "execution_count": 5,
   "id": "065ff415-0182-43da-ae03-3f65685df54f",
   "metadata": {},
   "outputs": [
    {
     "name": "stdout",
     "output_type": "stream",
     "text": [
      "49838\n",
      "2475\n",
      "4875\n"
     ]
    }
   ],
   "source": [
    "print(len(train))\n",
    "print(len(validation))\n",
    "print(len(test))"
   ]
  },
  {
   "cell_type": "code",
   "execution_count": 6,
   "id": "047782cb-60e0-4472-bedb-e02470721d28",
   "metadata": {},
   "outputs": [
    {
     "data": {
      "text/plain": [
       "{'audiocap_id': 91139,\n",
       " 'youtube_id': 'r1nicOVtvkQ',\n",
       " 'start_time': 130,\n",
       " 'caption': 'A woman talks nearby as water pours'}"
      ]
     },
     "execution_count": 6,
     "metadata": {},
     "output_type": "execute_result"
    }
   ],
   "source": [
    "train[0]"
   ]
  },
  {
   "cell_type": "code",
   "execution_count": 7,
   "id": "096e64c9-447d-4061-b32b-3ae06cf0a174",
   "metadata": {},
   "outputs": [
    {
     "data": {
      "text/plain": [
       "{'audiocap_id': 97151,\n",
       " 'youtube_id': 'vfY_TJq7n_U',\n",
       " 'start_time': 130,\n",
       " 'caption': 'Rustling occurs, ducks quack and water splashes, followed by an adult female and adult male speaking and duck calls being blown'}"
      ]
     },
     "execution_count": 7,
     "metadata": {},
     "output_type": "execute_result"
    }
   ],
   "source": [
    "validation[0]"
   ]
  },
  {
   "cell_type": "code",
   "execution_count": 10,
   "id": "8959adaf-ca0f-4bb6-a385-333ae5fdd871",
   "metadata": {},
   "outputs": [
    {
     "name": "stderr",
     "output_type": "stream",
     "text": [
      "100%|████████████████████████████████████████████████████████████████████████████████████████████████████████████████████████████████████████████████████████████████████████████████████████████████████████████████████████████████████████| 49838/49838 [00:01<00:00, 32493.38it/s]\n"
     ]
    }
   ],
   "source": [
    "dataset = []\n",
    "for x in tqdm(train):\n",
    "    dataset.append({\n",
    "        # 'audiocap_id': x['audiocap_id'],\n",
    "        # 'youtube_id': x['youtube_id'],\n",
    "        # 'start_time': x['start_time'],\n",
    "        # 'caption': x['caption'],\n",
    "\n",
    "        'path': f\"/dataset/audio-data/audiocaps/train/{x['youtube_id']}.wav\",\n",
    "        'text': x['caption'],\n",
    "        \n",
    "    })\n",
    "with open(\"./train.json\", \"w\") as f:\n",
    "    json.dump(dataset, f, indent=4)"
   ]
  },
  {
   "cell_type": "code",
   "execution_count": 11,
   "id": "93f1b36e-db97-43d9-84f9-1bd0daf43bdf",
   "metadata": {},
   "outputs": [
    {
     "name": "stderr",
     "output_type": "stream",
     "text": [
      "100%|██████████████████████████████████████████████████████████████████████████████████████████████████████████████████████████████████████████████████████████████████████████████████████████████████████████████████████████████████████████| 2475/2475 [00:00<00:00, 34397.65it/s]\n"
     ]
    }
   ],
   "source": [
    "dataset = []\n",
    "for x in tqdm(validation):\n",
    "    dataset.append({\n",
    "        # 'audiocap_id': x['audiocap_id'],\n",
    "        # 'youtube_id': x['youtube_id'],\n",
    "        # 'start_time': x['start_time'],\n",
    "        # 'caption': x['caption'],\n",
    "\n",
    "        'path': f\"/dataset/audio-data/audiocaps/val/{x['youtube_id']}.wav\",\n",
    "        'text': x['caption'],\n",
    "    })\n",
    "with open(\"./val.json\", \"w\") as f:\n",
    "    json.dump(dataset, f, indent=4)"
   ]
  },
  {
   "cell_type": "code",
   "execution_count": 12,
   "id": "369c064a-fad8-4d65-87e4-12d0593af601",
   "metadata": {},
   "outputs": [
    {
     "name": "stderr",
     "output_type": "stream",
     "text": [
      "100%|██████████████████████████████████████████████████████████████████████████████████████████████████████████████████████████████████████████████████████████████████████████████████████████████████████████████████████████████████████████| 4875/4875 [00:00<00:00, 34660.03it/s]\n"
     ]
    }
   ],
   "source": [
    "dataset = []\n",
    "for x in tqdm(test):\n",
    "    dataset.append({\n",
    "        # 'audiocap_id': x['audiocap_id'],\n",
    "        # 'youtube_id': x['youtube_id'],\n",
    "        # 'start_time': x['start_time'],\n",
    "        # 'caption': x['caption'],\n",
    "\n",
    "        'path': f\"/dataset/audio-data/audiocaps/test/{x['youtube_id']}.wav\",\n",
    "        'text': x['caption'],\n",
    "    })\n",
    "with open(\"./test.json\", \"w\") as f:\n",
    "    json.dump(dataset, f, indent=4)"
   ]
  },
  {
   "cell_type": "markdown",
   "id": "c0d22e80-73a4-4953-a39b-72f1eeb6d2e6",
   "metadata": {},
   "source": [
    "# Sanity Check"
   ]
  },
  {
   "cell_type": "code",
   "execution_count": 24,
   "id": "a6756bb0-b763-4323-b46d-c6b3357d3fc1",
   "metadata": {},
   "outputs": [],
   "source": [
    "from pydub import AudioSegment"
   ]
  },
  {
   "cell_type": "code",
   "execution_count": 25,
   "id": "483a280c-ca5a-42c4-97e8-85833bd4e678",
   "metadata": {},
   "outputs": [
    {
     "name": "stdout",
     "output_type": "stream",
     "text": [
      "Frame Width: 4\n",
      "Sampling Rate: 16.0 kHz\n",
      "Bitrate: 512.0 kbps\n"
     ]
    }
   ],
   "source": [
    "# Load your audio file\n",
    "audio = AudioSegment.from_file(\"./train/-02sZMlMYIk.wav\")\n",
    "\n",
    "# Get sampling rate\n",
    "sampling_rate = audio.frame_rate\n",
    "\n",
    "# Get bitrate\n",
    "bitrate = audio.frame_width * audio.frame_rate * 8\n",
    "\n",
    "print(f\"Frame Width: {audio.frame_width}\")\n",
    "print(f\"Sampling Rate: {sampling_rate/1000} kHz\")\n",
    "print(f\"Bitrate: {bitrate/1000} kbps\")"
   ]
  },
  {
   "cell_type": "markdown",
   "id": "461f5bd2-4c8a-4a72-9d26-73d40acd22c1",
   "metadata": {},
   "source": [
    "# AudioCap translated (Thai)"
   ]
  },
  {
   "cell_type": "code",
   "execution_count": 14,
   "id": "0c404831-1d75-455d-a1de-aa4a12bd1414",
   "metadata": {},
   "outputs": [],
   "source": [
    "import json"
   ]
  },
  {
   "cell_type": "code",
   "execution_count": 15,
   "id": "b6a2fc7c-a9d7-443c-82d3-34e8bca5d474",
   "metadata": {},
   "outputs": [],
   "source": [
    "def read_jsonl(file_path):\n",
    "    data = []\n",
    "    with open(file_path, 'r') as file:\n",
    "        for line in file:\n",
    "            data.append(json.loads(line.strip()))\n",
    "    return data"
   ]
  },
  {
   "cell_type": "code",
   "execution_count": 24,
   "id": "6c0df1dc-8a25-412a-94f7-f011e2386947",
   "metadata": {},
   "outputs": [
    {
     "name": "stdout",
     "output_type": "stream",
     "text": [
      "49838\n"
     ]
    },
    {
     "name": "stderr",
     "output_type": "stream",
     "text": [
      "49838it [00:01, 32455.66it/s]\n"
     ]
    }
   ],
   "source": [
    "paths = [\n",
    "    \"/workspace/translate-data/outputs/audiocaps/train/0_16000.jsonl\",\n",
    "    \"/workspace/translate-data/outputs/audiocaps/train/16000_32000.jsonl\",\n",
    "    \"/workspace/translate-data/outputs/audiocaps/train/32000_49838.jsonl\",\n",
    "]\n",
    "train_th = []\n",
    "for path in paths:\n",
    "    train_th += read_jsonl(path)\n",
    "print(len(train_th))\n",
    "\n",
    "\n",
    "dataset = []\n",
    "for i, x in tqdm(enumerate(train)):\n",
    "    assert train_th[i]['youtube_id'] == x['youtube_id']\n",
    "    assert train_th[i]['audiocap_id'] == x['audiocap_id']\n",
    "\n",
    "\n",
    "    text = train_th[i]['caption_th'].split(\"<|im_start|>\")[0] \n",
    "    \n",
    "    dataset.append({\n",
    "        # 'audiocap_id': x['audiocap_id'],\n",
    "        # 'youtube_id': x['youtube_id'],\n",
    "        # 'start_time': x['start_time'],\n",
    "        # 'caption': x['caption'],\n",
    "\n",
    "        'path': f\"/dataset/audio-data/audiocaps/train/{x['youtube_id']}.wav\",\n",
    "        'text': text,\n",
    "        \n",
    "    })\n",
    "with open(\"./train_th.json\", \"w\") as f:\n",
    "    json.dump(dataset, f, indent=4, ensure_ascii=False)"
   ]
  },
  {
   "cell_type": "code",
   "execution_count": 27,
   "id": "b2ab46f0-d8b9-4e40-939d-49fb59e86efa",
   "metadata": {},
   "outputs": [
    {
     "name": "stdout",
     "output_type": "stream",
     "text": [
      "2475\n"
     ]
    },
    {
     "name": "stderr",
     "output_type": "stream",
     "text": [
      "2475it [00:00, 32965.50it/s]\n"
     ]
    }
   ],
   "source": [
    "val_th = read_jsonl(\"/workspace/translate-data/outputs/audiocaps/val/0_2475.jsonl\")\n",
    "print(len(val_th))\n",
    "\n",
    "\n",
    "dataset = []\n",
    "for i, x in tqdm(enumerate(validation)):\n",
    "    assert val_th[i]['youtube_id'] == x['youtube_id']\n",
    "    assert val_th[i]['audiocap_id'] == x['audiocap_id']\n",
    "\n",
    "\n",
    "    text = val_th[i]['caption_th'].split(\"<|im_start|>\")[0] \n",
    "    \n",
    "    dataset.append({\n",
    "        # 'audiocap_id': x['audiocap_id'],\n",
    "        # 'youtube_id': x['youtube_id'],\n",
    "        # 'start_time': x['start_time'],\n",
    "        # 'caption': x['caption'],\n",
    "\n",
    "        'path': f\"/dataset/audio-data/audiocaps/val/{x['youtube_id']}.wav\",\n",
    "        'text': text,\n",
    "        \n",
    "    })\n",
    "with open(\"./val_th.json\", \"w\") as f:\n",
    "    json.dump(dataset, f, indent=4, ensure_ascii=False)"
   ]
  },
  {
   "cell_type": "code",
   "execution_count": 28,
   "id": "4ae8aa43-c6b7-41b8-85be-da22d3eb1934",
   "metadata": {},
   "outputs": [
    {
     "name": "stdout",
     "output_type": "stream",
     "text": [
      "4875\n"
     ]
    },
    {
     "name": "stderr",
     "output_type": "stream",
     "text": [
      "4875it [00:00, 33247.53it/s]\n"
     ]
    }
   ],
   "source": [
    "test_th = read_jsonl(\"/workspace/translate-data/outputs/audiocaps/test/0_4875.jsonl\")\n",
    "print(len(test_th))\n",
    "\n",
    "\n",
    "dataset = []\n",
    "for i, x in tqdm(enumerate(test)):\n",
    "    assert test_th[i]['youtube_id'] == x['youtube_id']\n",
    "    assert test_th[i]['audiocap_id'] == x['audiocap_id']\n",
    "\n",
    "\n",
    "    text = test_th[i]['caption_th'].split(\"<|im_start|>\")[0] \n",
    "    \n",
    "    dataset.append({\n",
    "        # 'audiocap_id': x['audiocap_id'],\n",
    "        # 'youtube_id': x['youtube_id'],\n",
    "        # 'start_time': x['start_time'],\n",
    "        # 'caption': x['caption'],\n",
    "\n",
    "        'path': f\"/dataset/audio-data/audiocaps/test/{x['youtube_id']}.wav\",\n",
    "        'text': text,\n",
    "        \n",
    "    })\n",
    "with open(\"./test_th.json\", \"w\") as f:\n",
    "    json.dump(dataset, f, indent=4, ensure_ascii=False)"
   ]
  }
 ],
 "metadata": {
  "kernelspec": {
   "display_name": "Python 3 (ipykernel)",
   "language": "python",
   "name": "python3"
  },
  "language_info": {
   "codemirror_mode": {
    "name": "ipython",
    "version": 3
   },
   "file_extension": ".py",
   "mimetype": "text/x-python",
   "name": "python",
   "nbconvert_exporter": "python",
   "pygments_lexer": "ipython3",
   "version": "3.9.19"
  }
 },
 "nbformat": 4,
 "nbformat_minor": 5
}
