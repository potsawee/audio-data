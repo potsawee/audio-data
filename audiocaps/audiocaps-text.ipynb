{
 "cells": [
  {
   "cell_type": "code",
   "execution_count": 16,
   "id": "725d678a-3fe5-45d8-9f14-7641e993cd2e",
   "metadata": {},
   "outputs": [],
   "source": [
    "from tqdm import tqdm\n",
    "import json"
   ]
  },
  {
   "cell_type": "code",
   "execution_count": 1,
   "id": "23a78fdc-7c78-4c2b-828c-ea30a0928896",
   "metadata": {},
   "outputs": [
    {
     "name": "stderr",
     "output_type": "stream",
     "text": [
      "/cache/miniconda3/envs/exp-punpun0/lib/python3.9/site-packages/tqdm/auto.py:21: TqdmWarning: IProgress not found. Please update jupyter and ipywidgets. See https://ipywidgets.readthedocs.io/en/stable/user_install.html\n",
      "  from .autonotebook import tqdm as notebook_tqdm\n",
      "Downloading readme: 100%|█████████████████████████████████████████████████████████████████████████████████| 990/990 [00:00<00:00, 7.16MB/s]\n",
      "Downloading data: 100%|███████████████████████████████████████████████████████████████████████████████| 2.45M/2.45M [00:00<00:00, 3.26MB/s]\n",
      "Downloading data: 100%|████████████████████████████████████████████████████████████████████████████████| 99.8k/99.8k [00:00<00:00, 332kB/s]\n",
      "Downloading data: 100%|██████████████████████████████████████████████████████████████████████████████████| 230k/230k [00:00<00:00, 632kB/s]\n",
      "Generating train split: 100%|████████████████████████████████████████████████████████████| 49838/49838 [00:00<00:00, 1218646.91 examples/s]\n",
      "Generating validation split: 100%|██████████████████████████████████████████████████████████| 2475/2475 [00:00<00:00, 782991.58 examples/s]\n",
      "Generating test split: 100%|███████████████████████████████████████████████████████████████| 4875/4875 [00:00<00:00, 1132873.40 examples/s]\n"
     ]
    }
   ],
   "source": [
    "from datasets import load_dataset\n",
    "dataset = load_dataset(\"d0rj/audiocaps\")"
   ]
  },
  {
   "cell_type": "code",
   "execution_count": 4,
   "id": "32d2519c-2d51-4959-8cd4-a3e24f5dc983",
   "metadata": {},
   "outputs": [
    {
     "data": {
      "text/plain": [
       "DatasetDict({\n",
       "    train: Dataset({\n",
       "        features: ['audiocap_id', 'youtube_id', 'start_time', 'caption'],\n",
       "        num_rows: 49838\n",
       "    })\n",
       "    validation: Dataset({\n",
       "        features: ['audiocap_id', 'youtube_id', 'start_time', 'caption'],\n",
       "        num_rows: 2475\n",
       "    })\n",
       "    test: Dataset({\n",
       "        features: ['audiocap_id', 'youtube_id', 'start_time', 'caption'],\n",
       "        num_rows: 4875\n",
       "    })\n",
       "})"
      ]
     },
     "execution_count": 4,
     "metadata": {},
     "output_type": "execute_result"
    }
   ],
   "source": [
    "dataset"
   ]
  },
  {
   "cell_type": "code",
   "execution_count": 5,
   "id": "24dbc8dd-d4a8-42be-90c9-30629839e6e9",
   "metadata": {},
   "outputs": [],
   "source": [
    "train = dataset['train']\n",
    "validation = dataset['validation']\n",
    "test = dataset['test']"
   ]
  },
  {
   "cell_type": "code",
   "execution_count": 7,
   "id": "065ff415-0182-43da-ae03-3f65685df54f",
   "metadata": {},
   "outputs": [
    {
     "name": "stdout",
     "output_type": "stream",
     "text": [
      "49838\n",
      "2475\n",
      "4875\n"
     ]
    }
   ],
   "source": [
    "print(len(train))\n",
    "print(len(validation))\n",
    "print(len(test))"
   ]
  },
  {
   "cell_type": "code",
   "execution_count": 9,
   "id": "047782cb-60e0-4472-bedb-e02470721d28",
   "metadata": {},
   "outputs": [
    {
     "data": {
      "text/plain": [
       "{'audiocap_id': 91139,\n",
       " 'youtube_id': 'r1nicOVtvkQ',\n",
       " 'start_time': 130,\n",
       " 'caption': 'A woman talks nearby as water pours'}"
      ]
     },
     "execution_count": 9,
     "metadata": {},
     "output_type": "execute_result"
    }
   ],
   "source": [
    "train[0]"
   ]
  },
  {
   "cell_type": "code",
   "execution_count": 11,
   "id": "096e64c9-447d-4061-b32b-3ae06cf0a174",
   "metadata": {},
   "outputs": [
    {
     "data": {
      "text/plain": [
       "{'audiocap_id': 97151,\n",
       " 'youtube_id': 'vfY_TJq7n_U',\n",
       " 'start_time': 130,\n",
       " 'caption': 'Rustling occurs, ducks quack and water splashes, followed by an adult female and adult male speaking and duck calls being blown'}"
      ]
     },
     "execution_count": 11,
     "metadata": {},
     "output_type": "execute_result"
    }
   ],
   "source": [
    "validation[0]"
   ]
  },
  {
   "cell_type": "code",
   "execution_count": 21,
   "id": "8959adaf-ca0f-4bb6-a385-333ae5fdd871",
   "metadata": {},
   "outputs": [
    {
     "name": "stderr",
     "output_type": "stream",
     "text": [
      "100%|█████████████████████████████████████████████████████████████████████████████████████████████| 49838/49838 [00:01<00:00, 35409.49it/s]\n"
     ]
    }
   ],
   "source": [
    "dataset = []\n",
    "for x in tqdm(train):\n",
    "    dataset.append({\n",
    "        'audiocap_id': x['audiocap_id'],\n",
    "        'youtube_id': x['youtube_id'],\n",
    "        'start_time': x['start_time'],\n",
    "        'caption': x['caption'],\n",
    "    })\n",
    "with open(\"./train.json\", \"w\") as f:\n",
    "    json.dump(dataset, f, indent=4)"
   ]
  },
  {
   "cell_type": "code",
   "execution_count": 22,
   "id": "93f1b36e-db97-43d9-84f9-1bd0daf43bdf",
   "metadata": {},
   "outputs": [
    {
     "name": "stderr",
     "output_type": "stream",
     "text": [
      "100%|███████████████████████████████████████████████████████████████████████████████████████████████| 2475/2475 [00:00<00:00, 35235.96it/s]\n"
     ]
    }
   ],
   "source": [
    "dataset = []\n",
    "for x in tqdm(validation):\n",
    "    dataset.append({\n",
    "        'audiocap_id': x['audiocap_id'],\n",
    "        'youtube_id': x['youtube_id'],\n",
    "        'start_time': x['start_time'],\n",
    "        'caption': x['caption'],\n",
    "    })\n",
    "with open(\"./val.json\", \"w\") as f:\n",
    "    json.dump(dataset, f, indent=4)"
   ]
  },
  {
   "cell_type": "code",
   "execution_count": 23,
   "id": "369c064a-fad8-4d65-87e4-12d0593af601",
   "metadata": {},
   "outputs": [
    {
     "name": "stderr",
     "output_type": "stream",
     "text": [
      "100%|███████████████████████████████████████████████████████████████████████████████████████████████| 4875/4875 [00:00<00:00, 34834.75it/s]\n"
     ]
    }
   ],
   "source": [
    "dataset = []\n",
    "for x in tqdm(test):\n",
    "    dataset.append({\n",
    "        'audiocap_id': x['audiocap_id'],\n",
    "        'youtube_id': x['youtube_id'],\n",
    "        'start_time': x['start_time'],\n",
    "        'caption': x['caption'],\n",
    "    })\n",
    "with open(\"./test.json\", \"w\") as f:\n",
    "    json.dump(dataset, f, indent=4)"
   ]
  },
  {
   "cell_type": "markdown",
   "id": "c0d22e80-73a4-4953-a39b-72f1eeb6d2e6",
   "metadata": {},
   "source": [
    "# Sanity Check"
   ]
  },
  {
   "cell_type": "code",
   "execution_count": 24,
   "id": "a6756bb0-b763-4323-b46d-c6b3357d3fc1",
   "metadata": {},
   "outputs": [],
   "source": [
    "from pydub import AudioSegment"
   ]
  },
  {
   "cell_type": "code",
   "execution_count": 25,
   "id": "483a280c-ca5a-42c4-97e8-85833bd4e678",
   "metadata": {},
   "outputs": [
    {
     "name": "stdout",
     "output_type": "stream",
     "text": [
      "Frame Width: 4\n",
      "Sampling Rate: 16.0 kHz\n",
      "Bitrate: 512.0 kbps\n"
     ]
    }
   ],
   "source": [
    "# Load your audio file\n",
    "audio = AudioSegment.from_file(\"./train/-02sZMlMYIk.wav\")\n",
    "\n",
    "# Get sampling rate\n",
    "sampling_rate = audio.frame_rate\n",
    "\n",
    "# Get bitrate\n",
    "bitrate = audio.frame_width * audio.frame_rate * 8\n",
    "\n",
    "print(f\"Frame Width: {audio.frame_width}\")\n",
    "print(f\"Sampling Rate: {sampling_rate/1000} kHz\")\n",
    "print(f\"Bitrate: {bitrate/1000} kbps\")"
   ]
  }
 ],
 "metadata": {
  "kernelspec": {
   "display_name": "Python 3 (ipykernel)",
   "language": "python",
   "name": "python3"
  },
  "language_info": {
   "codemirror_mode": {
    "name": "ipython",
    "version": 3
   },
   "file_extension": ".py",
   "mimetype": "text/x-python",
   "name": "python",
   "nbconvert_exporter": "python",
   "pygments_lexer": "ipython3",
   "version": "3.9.19"
  }
 },
 "nbformat": 4,
 "nbformat_minor": 5
}
