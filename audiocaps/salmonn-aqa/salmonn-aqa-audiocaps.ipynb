{
 "cells": [
  {
   "cell_type": "code",
   "execution_count": 2,
   "id": "f5e5f467-0650-4ab4-bc6a-a6ef9c481c52",
   "metadata": {},
   "outputs": [],
   "source": [
    "import json\n",
    "import os"
   ]
  },
  {
   "cell_type": "code",
   "execution_count": 3,
   "id": "6be90f68-f074-4dd2-aec9-dce2641d24bf",
   "metadata": {},
   "outputs": [],
   "source": [
    "with open(\"../../salmonn_data/salmonn_stage2_data.json\") as f:\n",
    "    data = json.load(f)"
   ]
  },
  {
   "cell_type": "code",
   "execution_count": 4,
   "id": "bc6e8a3b-23a3-48eb-90ad-a1b18a7b14a7",
   "metadata": {},
   "outputs": [
    {
     "data": {
      "text/plain": [
       "2390842"
      ]
     },
     "execution_count": 4,
     "metadata": {},
     "output_type": "execute_result"
    }
   ],
   "source": [
    "data = data['annotation']\n",
    "len(data)"
   ]
  },
  {
   "cell_type": "code",
   "execution_count": 8,
   "id": "70a4fb6f-0b89-41da-9bc1-6fdae8e0fd5e",
   "metadata": {},
   "outputs": [
    {
     "data": {
      "text/plain": [
       "'/AudioCaps/train/r1nicOVtvkQ.wav'"
      ]
     },
     "execution_count": 8,
     "metadata": {},
     "output_type": "execute_result"
    }
   ],
   "source": [
    "data[i]['path']"
   ]
  },
  {
   "cell_type": "code",
   "execution_count": 17,
   "id": "e45d1e35-d616-473c-b9a9-a9c9ea0da84a",
   "metadata": {},
   "outputs": [
    {
     "data": {
      "text/plain": [
       "['/', '/train/r1nicOVtvkQ.wav']"
      ]
     },
     "execution_count": 17,
     "metadata": {},
     "output_type": "execute_result"
    }
   ],
   "source": []
  },
  {
   "cell_type": "code",
   "execution_count": 21,
   "id": "5c8701db-f7ff-489b-b925-a2413a183360",
   "metadata": {},
   "outputs": [],
   "source": [
    "data_qa  = []\n",
    "for i in range(len(data)):\n",
    "    if data[i]['task'] != \"QA\":\n",
    "        continue\n",
    "    x = data[i]['path'].split(\"/\")[1]\n",
    "    if x != \"AudioCaps\":\n",
    "        continue\n",
    "    path0 = data[i]['path'].split(\"AudioCaps\")[-1]\n",
    "    path = f\"/dataset/audio-data/audiocaps{path0}\"\n",
    "    assert os.path.isfile(path)\n",
    "    data_qa.append({\n",
    "        'path': path,\n",
    "        'text': data[i]['text'],\n",
    "        'task': \"QA\",\n",
    "        'Q': data[i]['Q'],\n",
    "    })"
   ]
  },
  {
   "cell_type": "code",
   "execution_count": 23,
   "id": "8ba6a448-25a5-466c-955a-6637f187e5af",
   "metadata": {},
   "outputs": [
    {
     "data": {
      "text/plain": [
       "48267"
      ]
     },
     "execution_count": 23,
     "metadata": {},
     "output_type": "execute_result"
    }
   ],
   "source": [
    "len(data_qa)"
   ]
  },
  {
   "cell_type": "code",
   "execution_count": 24,
   "id": "5f30de4e-3bc3-473a-b1d3-2827717ac7b2",
   "metadata": {},
   "outputs": [],
   "source": [
    "with open(\"./train.json\", \"w\") as f:\n",
    "    json.dump(data_qa, f, indent=4)"
   ]
  },
  {
   "cell_type": "code",
   "execution_count": null,
   "id": "ee7fcae9-ddc7-4671-a251-2ec53706d40f",
   "metadata": {},
   "outputs": [],
   "source": []
  }
 ],
 "metadata": {
  "kernelspec": {
   "display_name": "Python 3 (ipykernel)",
   "language": "python",
   "name": "python3"
  },
  "language_info": {
   "codemirror_mode": {
    "name": "ipython",
    "version": 3
   },
   "file_extension": ".py",
   "mimetype": "text/x-python",
   "name": "python",
   "nbconvert_exporter": "python",
   "pygments_lexer": "ipython3",
   "version": "3.9.19"
  }
 },
 "nbformat": 4,
 "nbformat_minor": 5
}
