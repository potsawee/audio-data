{
 "cells": [
  {
   "cell_type": "code",
   "execution_count": 1,
   "id": "4a1b2d1f-9104-4e62-9176-46084b478f1d",
   "metadata": {},
   "outputs": [],
   "source": [
    "from pydub import AudioSegment"
   ]
  },
  {
   "cell_type": "code",
   "execution_count": 6,
   "id": "57f7c587-d3fd-4c65-b5dd-8fe5948aaed5",
   "metadata": {},
   "outputs": [
    {
     "name": "stdout",
     "output_type": "stream",
     "text": [
      "Frame Width: 4\n",
      "Sampling Rate: 44.1 kHz\n",
      "Bitrate: 1411.2 kbps\n"
     ]
    }
   ],
   "source": [
    "# Load your audio file\n",
    "audio = AudioSegment.from_file(\"./mp3/group1/10.mp3\")\n",
    "\n",
    "# Get sampling rate\n",
    "sampling_rate = audio.frame_rate\n",
    "\n",
    "# Get bitrate\n",
    "bitrate = audio.frame_width * audio.frame_rate * 8\n",
    "\n",
    "print(f\"Frame Width: {audio.frame_width}\")\n",
    "print(f\"Sampling Rate: {sampling_rate/1000} kHz\")\n",
    "print(f\"Bitrate: {bitrate/1000} kbps\")"
   ]
  },
  {
   "cell_type": "code",
   "execution_count": 8,
   "id": "a228d3b3-6a09-4413-83a9-c4f12252a5d0",
   "metadata": {},
   "outputs": [
    {
     "data": {
      "text/plain": [
       "<_io.BufferedRandom name='./wav/group1/10.wav'>"
      ]
     },
     "execution_count": 8,
     "metadata": {},
     "output_type": "execute_result"
    }
   ],
   "source": [
    "audio = AudioSegment.from_mp3(\"./mp3/group1/10.mp3\")\n",
    "\n",
    "# Set the frame rate (sampling rate) to 16 kHz\n",
    "audio = audio.set_frame_rate(16000)\n",
    "\n",
    "# Export the audio in WAV format\n",
    "audio.export(\"./wav/group1/10.wav\", format=\"wav\")"
   ]
  },
  {
   "cell_type": "code",
   "execution_count": 9,
   "id": "18492c16-bf4a-4ba4-b708-c21b4d4f1ac5",
   "metadata": {},
   "outputs": [
    {
     "name": "stdout",
     "output_type": "stream",
     "text": [
      "Frame Width: 4\n",
      "Sampling Rate: 16.0 kHz\n",
      "Bitrate: 512.0 kbps\n"
     ]
    }
   ],
   "source": [
    "# Load your audio file\n",
    "audio = AudioSegment.from_file(\"./wav/group1/10.wav\")\n",
    "\n",
    "# Get sampling rate\n",
    "sampling_rate = audio.frame_rate\n",
    "\n",
    "# Get bitrate\n",
    "bitrate = audio.frame_width * audio.frame_rate * 8\n",
    "\n",
    "print(f\"Frame Width: {audio.frame_width}\")\n",
    "print(f\"Sampling Rate: {sampling_rate/1000} kHz\")\n",
    "print(f\"Bitrate: {bitrate/1000} kbps\")"
   ]
  },
  {
   "cell_type": "markdown",
   "id": "dcd4abb9-f3ee-48c4-9991-8f7e242ae396",
   "metadata": {},
   "source": [
    "\n",
    "# CSV to JSON"
   ]
  },
  {
   "cell_type": "code",
   "execution_count": 18,
   "id": "8fc02e1a-56f2-4b6b-a30e-93a55a90a862",
   "metadata": {},
   "outputs": [],
   "source": [
    "import pandas as pd\n",
    "import json"
   ]
  },
  {
   "cell_type": "code",
   "execution_count": 2,
   "id": "d307e248-410c-4502-a70e-cbd2e121fe45",
   "metadata": {},
   "outputs": [],
   "source": [
    "csv_data = pd.read_csv(\"./data.csv\")"
   ]
  },
  {
   "cell_type": "code",
   "execution_count": 19,
   "id": "c01d516a-e1b7-4f54-bbf1-034fcdb24e43",
   "metadata": {},
   "outputs": [
    {
     "name": "stdout",
     "output_type": "stream",
     "text": [
      "28770\n",
      "28770\n"
     ]
    }
   ],
   "source": [
    "json_data = []\n",
    "print(len(csv_data))\n",
    "for i in range(len(csv_data)):\n",
    "    x = csv_data.iloc[i]\n",
    "    path0 = x['filepath']\n",
    "    items = path0.split(\"\\\\\")\n",
    "    path = f\"/dataset/audio-data/vulcan_asr/wav/{items[0]}/{items[1].replace('.mp3', '.wav')}\"\n",
    "    text = x['labels']\n",
    "    json_data.append({\n",
    "        'path': path,\n",
    "        'text': text,\n",
    "    })\n",
    "print(len(json_data))\n",
    "with open(\"./data.json\", \"w\") as f:\n",
    "    json.dump(json_data, f, indent=4, ensure_ascii=False)"
   ]
  }
 ],
 "metadata": {
  "kernelspec": {
   "display_name": "Python 3 (ipykernel)",
   "language": "python",
   "name": "python3"
  },
  "language_info": {
   "codemirror_mode": {
    "name": "ipython",
    "version": 3
   },
   "file_extension": ".py",
   "mimetype": "text/x-python",
   "name": "python",
   "nbconvert_exporter": "python",
   "pygments_lexer": "ipython3",
   "version": "3.9.19"
  }
 },
 "nbformat": 4,
 "nbformat_minor": 5
}
