{
 "cells": [
  {
   "cell_type": "code",
   "execution_count": 1,
   "id": "be384483-084f-406c-980c-200cbb5e66c8",
   "metadata": {},
   "outputs": [
    {
     "name": "stderr",
     "output_type": "stream",
     "text": [
      "/cache/miniconda3/envs/exp-punpun0/lib/python3.9/site-packages/tqdm/auto.py:21: TqdmWarning: IProgress not found. Please update jupyter and ipywidgets. See https://ipywidgets.readthedocs.io/en/stable/user_install.html\n",
      "  from .autonotebook import tqdm as notebook_tqdm\n"
     ]
    }
   ],
   "source": [
    "from tqdm import tqdm\n",
    "from datasets import load_dataset"
   ]
  },
  {
   "cell_type": "code",
   "execution_count": 2,
   "id": "78b28b53-8556-48b7-b3cb-15b927b5fed5",
   "metadata": {},
   "outputs": [
    {
     "name": "stderr",
     "output_type": "stream",
     "text": [
      "Downloading builder script: 100%|████████████████████████████████████████████████████████████████████████████████████████████████████████████████████████████████████████████████████████████████████████████████████████████████████████████████| 16.6k/16.6k [00:00<00:00, 30.9MB/s]\n",
      "Downloading readme: 100%|████████████████████████████████████████████████████████████████████████████████████████████████████████████████████████████████████████████████████████████████████████████████████████████████████████████████████████| 14.0k/14.0k [00:00<00:00, 24.7MB/s]\n"
     ]
    }
   ],
   "source": [
    "# If the dataset is gated/private, make sure you have run huggingface-cli login\n",
    "dataset = load_dataset(\"speechcolab/gigaspeech\", \"m\", trust_remote_code=True)"
   ]
  },
  {
   "cell_type": "code",
   "execution_count": 3,
   "id": "d0352725-2693-4bdc-ac77-dcbc15ba4d72",
   "metadata": {},
   "outputs": [
    {
     "data": {
      "text/plain": [
       "DatasetDict({\n",
       "    train: Dataset({\n",
       "        features: ['segment_id', 'speaker', 'text', 'audio', 'begin_time', 'end_time', 'audio_id', 'title', 'url', 'source', 'category', 'original_full_path'],\n",
       "        num_rows: 900140\n",
       "    })\n",
       "    validation: Dataset({\n",
       "        features: ['segment_id', 'speaker', 'text', 'audio', 'begin_time', 'end_time', 'audio_id', 'title', 'url', 'source', 'category', 'original_full_path'],\n",
       "        num_rows: 6750\n",
       "    })\n",
       "    test: Dataset({\n",
       "        features: ['segment_id', 'speaker', 'text', 'audio', 'begin_time', 'end_time', 'audio_id', 'title', 'url', 'source', 'category', 'original_full_path'],\n",
       "        num_rows: 25619\n",
       "    })\n",
       "})"
      ]
     },
     "execution_count": 3,
     "metadata": {},
     "output_type": "execute_result"
    }
   ],
   "source": [
    "dataset"
   ]
  },
  {
   "cell_type": "code",
   "execution_count": 5,
   "id": "1578a4fe-a21d-4d51-8895-a97730bff9a5",
   "metadata": {},
   "outputs": [
    {
     "data": {
      "text/plain": [
       "{'segment_id': 'YOU0000000315_S0000660',\n",
       " 'speaker': 'N/A',\n",
       " 'text': \"AS THEY'RE LEAVING <COMMA> CAN KASH PULL ZAHRA ASIDE REALLY QUICKLY <QUESTIONMARK>\",\n",
       " 'audio': {'path': '/workspace2/data-audio/cache/downloads/extracted/42f19a447fabdff8fa42fea876222e05c6bf532239ff8170094bc20cc5b600c3/xs_chunks_0000/YOU0000000315_S0000660.wav',\n",
       "  'array': array([0.0005188 , 0.00085449, 0.00012207, ..., 0.00125122, 0.00076294,\n",
       "         0.00036621]),\n",
       "  'sampling_rate': 16000},\n",
       " 'begin_time': 2941.889892578125,\n",
       " 'end_time': 2945.070068359375,\n",
       " 'audio_id': 'YOU0000000315',\n",
       " 'title': 'Return to Vasselheim | Critical Role: VOX MACHINA | Episode 43',\n",
       " 'url': 'https://www.youtube.com/watch?v=zr2n1fLVasU',\n",
       " 'source': 2,\n",
       " 'category': 24,\n",
       " 'original_full_path': 'audio/youtube/P0004/YOU0000000315.opus'}"
      ]
     },
     "execution_count": 5,
     "metadata": {},
     "output_type": "execute_result"
    }
   ],
   "source": [
    "train = dataset['train']\n",
    "train[0]"
   ]
  },
  {
   "cell_type": "markdown",
   "id": "19403bb8-428f-4aca-83cc-ca4ea0380bd8",
   "metadata": {},
   "source": [
    "# Sanity Check"
   ]
  },
  {
   "cell_type": "code",
   "execution_count": 6,
   "id": "ecac4d52-5485-44f3-aa67-70b761ffcef0",
   "metadata": {},
   "outputs": [],
   "source": [
    "from pydub import AudioSegment\n",
    "import json"
   ]
  },
  {
   "cell_type": "code",
   "execution_count": 7,
   "id": "bd7ff9ec-bfe5-457d-a8c0-b8f74ae0c6e0",
   "metadata": {},
   "outputs": [],
   "source": [
    "with open(\"./validation.json\") as f:\n",
    "    val = json.load(f)"
   ]
  },
  {
   "cell_type": "code",
   "execution_count": 8,
   "id": "ac04e2c0-f471-4ada-8c00-452aec807b50",
   "metadata": {},
   "outputs": [
    {
     "data": {
      "text/plain": [
       "5715"
      ]
     },
     "execution_count": 8,
     "metadata": {},
     "output_type": "execute_result"
    }
   ],
   "source": [
    "len(val)"
   ]
  },
  {
   "cell_type": "code",
   "execution_count": 11,
   "id": "3f44ffeb-ca96-41bf-b0d1-df03cf9dcd8d",
   "metadata": {},
   "outputs": [
    {
     "data": {
      "text/plain": [
       "{'text': 'So after they put in their name phone number email address onto your landing page where would you like to send them would you like to send them to your facebook page your website',\n",
       " 'path': '/workspace2/data-audio/gigaspeech_hf_data/extracted/0f590970b86086639f10ba488b51733954535da5a9707b1ca428542ab804f596/dev_chunks_0000/YOU1000000006_S0000051.wav'}"
      ]
     },
     "execution_count": 11,
     "metadata": {},
     "output_type": "execute_result"
    }
   ],
   "source": [
    "val[1000]"
   ]
  },
  {
   "cell_type": "code",
   "execution_count": 13,
   "id": "94ebdf2a-a91b-4f64-8a8a-7544cc3b77f6",
   "metadata": {},
   "outputs": [
    {
     "name": "stdout",
     "output_type": "stream",
     "text": [
      "Frame Width: 2\n",
      "Sampling Rate: 16.0 kHz\n",
      "Bitrate: 256.0 kbps\n"
     ]
    }
   ],
   "source": [
    "# Load your audio file\n",
    "audio = AudioSegment.from_file(val[1000]['path'])\n",
    "\n",
    "# Get sampling rate\n",
    "sampling_rate = audio.frame_rate\n",
    "\n",
    "# Get bitrate\n",
    "bitrate = audio.frame_width * audio.frame_rate * 8\n",
    "\n",
    "print(f\"Frame Width: {audio.frame_width}\")\n",
    "print(f\"Sampling Rate: {sampling_rate/1000} kHz\")\n",
    "print(f\"Bitrate: {bitrate/1000} kbps\")"
   ]
  }
 ],
 "metadata": {
  "kernelspec": {
   "display_name": "Python 3 (ipykernel)",
   "language": "python",
   "name": "python3"
  },
  "language_info": {
   "codemirror_mode": {
    "name": "ipython",
    "version": 3
   },
   "file_extension": ".py",
   "mimetype": "text/x-python",
   "name": "python",
   "nbconvert_exporter": "python",
   "pygments_lexer": "ipython3",
   "version": "3.9.19"
  }
 },
 "nbformat": 4,
 "nbformat_minor": 5
}
