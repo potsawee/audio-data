{
 "cells": [
  {
   "cell_type": "code",
   "execution_count": 17,
   "id": "dc6d5254-b140-4911-8ad8-32adb605bc4a",
   "metadata": {},
   "outputs": [],
   "source": [
    "import json\n",
    "from glob import glob\n",
    "from tqdm import tqdm"
   ]
  },
  {
   "cell_type": "code",
   "execution_count": 16,
   "id": "94b28246-45a6-4cb9-b94d-a3fc0fae952a",
   "metadata": {},
   "outputs": [],
   "source": [
    "def read_jsonl(file_path):\n",
    "    data = []\n",
    "    with open(file_path, 'r') as file:\n",
    "        for line in file:\n",
    "            data.append(json.loads(line.strip()))\n",
    "    return data"
   ]
  },
  {
   "cell_type": "code",
   "execution_count": 18,
   "id": "ab121b0b-00d7-45df-903e-5b2751b2ac50",
   "metadata": {},
   "outputs": [
    {
     "name": "stderr",
     "output_type": "stream",
     "text": [
      "100%|███████████████████████████████████████████████████████████████████████████████████████████████| 21/21 [00:57<00:00,  2.72s/it]\n"
     ]
    }
   ],
   "source": [
    "data = []\n",
    "paths = sorted(glob(\"/workspace/translate-data/outputs/train/*.jsonl\"))\n",
    "for path in tqdm(paths):\n",
    "    data += read_jsonl(path)"
   ]
  },
  {
   "cell_type": "code",
   "execution_count": 19,
   "id": "bec1fc93-13ae-462a-8c5d-16fac08c41fa",
   "metadata": {},
   "outputs": [
    {
     "data": {
      "text/plain": [
       "10324230"
      ]
     },
     "execution_count": 19,
     "metadata": {},
     "output_type": "execute_result"
    }
   ],
   "source": [
    "len(data)"
   ]
  },
  {
   "cell_type": "code",
   "execution_count": 20,
   "id": "9bec3320-6557-477e-8073-d439ba475c38",
   "metadata": {},
   "outputs": [
    {
     "data": {
      "text/plain": [
       "{'instruction': 'คำถามปลายปิด: จำแนกคลิปเสียงตามเหตุการณ์ ให้ป้ายกำกับมีลักษณะทางเสียง',\n",
       " 'input': 'ฟอร์ด อับริร์',\n",
       " 'output': 'ป้ายกำกับที่มีคุณสมบัติด้านเสียง: ดังและแหลมสูง -> เสียงไซเรนรถพยาบาล',\n",
       " 'audio_id': '/data/sls/scratch/yuangong/avbyol2/egs/vggsound/preprocess/data/audio_16k/7DH5fqj8j6Q_000000.flac',\n",
       " 'dataset': 'vggsound_train',\n",
       " 'task': 'cla_label_des'}"
      ]
     },
     "execution_count": 20,
     "metadata": {},
     "output_type": "execute_result"
    }
   ],
   "source": [
    "data[0]"
   ]
  },
  {
   "cell_type": "code",
   "execution_count": 21,
   "id": "e4c3ffc6-8134-4ee2-8ce7-9a8ba9d67a3b",
   "metadata": {},
   "outputs": [],
   "source": [
    "with open(\"./openasqa_10.3M_v2.thai.json\", \"w\") as f:\n",
    "    json.dump(data, f, indent=4, ensure_ascii=False)"
   ]
  }
 ],
 "metadata": {
  "kernelspec": {
   "display_name": "Python 3 (ipykernel)",
   "language": "python",
   "name": "python3"
  },
  "language_info": {
   "codemirror_mode": {
    "name": "ipython",
    "version": 3
   },
   "file_extension": ".py",
   "mimetype": "text/x-python",
   "name": "python",
   "nbconvert_exporter": "python",
   "pygments_lexer": "ipython3",
   "version": "3.9.19"
  }
 },
 "nbformat": 4,
 "nbformat_minor": 5
}
