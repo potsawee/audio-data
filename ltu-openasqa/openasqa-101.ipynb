{
 "cells": [
  {
   "cell_type": "code",
   "execution_count": 6,
   "id": "8f822570-428d-4479-aab6-104fbf32c60f",
   "metadata": {},
   "outputs": [],
   "source": [
    "import json\n",
    "from tqdm import tqdm"
   ]
  },
  {
   "cell_type": "code",
   "execution_count": 2,
   "id": "97a66e16-b81f-4983-9d24-71c0a96ccbac",
   "metadata": {},
   "outputs": [],
   "source": [
    "with open(\"./openasqa_10.3M_v2.json\") as f:\n",
    "    dataset = json.load(f)"
   ]
  },
  {
   "cell_type": "code",
   "execution_count": 3,
   "id": "6a5390d2-74c7-46e4-9c1c-0d1d0c7fe130",
   "metadata": {},
   "outputs": [
    {
     "data": {
      "text/plain": [
       "10324230"
      ]
     },
     "execution_count": 3,
     "metadata": {},
     "output_type": "execute_result"
    }
   ],
   "source": [
    "len(dataset)"
   ]
  },
  {
   "cell_type": "code",
   "execution_count": 7,
   "id": "85529fde-6c63-4364-909b-504e38aa242d",
   "metadata": {},
   "outputs": [
    {
     "name": "stderr",
     "output_type": "stream",
     "text": [
      "100%|████████████████████████████████████████████████████████████████████████████████████████████████████████████████████████████████████| 10324230/10324230 [00:04<00:00, 2546247.65it/s]\n"
     ]
    }
   ],
   "source": [
    "dataset_count = {}\n",
    "for x in tqdm(dataset):\n",
    "    if x['dataset'] not in dataset_count:\n",
    "        dataset_count[x['dataset']] = 0\n",
    "    dataset_count[x['dataset']] += 1"
   ]
  },
  {
   "cell_type": "code",
   "execution_count": 9,
   "id": "37538a9e-eb51-45bb-921b-439a7ceccaa0",
   "metadata": {},
   "outputs": [
    {
     "data": {
      "text/plain": [
       "{'as_strong_train': 1584137,\n",
       " 'audioset': 1429437,\n",
       " 'vggsound_train': 1274803,\n",
       " 'voxceleb': 1035784,\n",
       " 'freesound_10s': 882352,\n",
       " 'audiocaps_train': 547349,\n",
       " 'voxceleb_tr': 536040,\n",
       " 'as_2m': 500139,\n",
       " 'libritts': 439660,\n",
       " 'fsd50k_tr': 436091,\n",
       " 'FMA': 395750,\n",
       " 'mosei': 372839,\n",
       " 'as_20k': 220972,\n",
       " 'mosei_tr': 130616,\n",
       " 'clotho_development': 106654,\n",
       " 'fma': 92526,\n",
       " 'IEMOCAP': 87060,\n",
       " 'libritts_tr': 86392,\n",
       " 'fsd50k_val': 49294,\n",
       " 'clotho_validation': 29855,\n",
       " 'audiocaps_val': 27323,\n",
       " 'sound_bible': 22739,\n",
       " 'iemocap_tr': 21450,\n",
       " 'mosei_dev': 14968}"
      ]
     },
     "execution_count": 9,
     "metadata": {},
     "output_type": "execute_result"
    }
   ],
   "source": [
    "dataset_count\n",
    "{k: v for k, v in sorted(dataset_count.items(), key=lambda item: -item[1])}"
   ]
  },
  {
   "cell_type": "code",
   "execution_count": 19,
   "id": "bbb99e0a-61c9-40f5-a8f5-d7b457c3c85d",
   "metadata": {
    "scrolled": true
   },
   "outputs": [
    {
     "name": "stdout",
     "output_type": "stream",
     "text": [
      "{'instruction': 'What is the sex of the individual who is speaking?', 'input': \"Like Larry's brother. Do it like you, Chris.\", 'audio_id': '/data/sls/scratch/yuangong/dataset/IEMOCAP/Session1/sentences/wav/Ses01F_script01_3/Ses01F_script01_3_F022.wav', 'dataset': 'iemocap_tr', 'task': 'gender_cla', 'output': 'The speaker is female.'}\n",
      "{'audio_id': '/data/sls/scratch/yuangong/dataset/IEMOCAP/Session4/sentences/wav/Ses04M_script02_2/Ses04M_script02_2_M007.wav', 'instruction': \"What does the speaker's use of the word 'fish' indicate about their perception?\", 'output': \"The use of the word 'fish' suggests that the speaker sees the grunions as ordinary and unremarkable.\", 'input': \"There's nothing to it. We come down here, the grunions arrive, they do the little fish business, we go, ooh, look at the fish, they go home, we go home.\", 'dataset': 'IEMOCAP', 'task': 'open-ended question'}\n",
      "{'audio_id': '/data/sls/scratch/yuangong/dataset/IEMOCAP/Session1/sentences/wav/Ses01F_script03_1/Ses01F_script03_1_F005.wav', 'instruction': \"What is the speaker's gender?\", 'output': 'female.', 'input': 'It sent shivers up my spine.', 'dataset': 'IEMOCAP', 'task': 'open-ended question'}\n",
      "{'audio_id': '/data/sls/scratch/yuangong/dataset/IEMOCAP/Session3/sentences/wav/Ses03F_script03_2/Ses03F_script03_2_F042.wav', 'instruction': \"What is the speaker's sentiment towards the person she is speaking to?\", 'output': \"Based on her anger and the use of words like 'hate' and 'loathe,' the speaker appears to have negative emotions towards the person she is speaking to.\", 'input': \"Yes, I am. Let go of me. I hate you and I loathe you. God, I can't believe I just finally realized how you are. I am never marry you. Never. Never, never, never. I would rather die in torment.\", 'dataset': 'IEMOCAP', 'task': 'open-ended question'}\n",
      "{'audio_id': '/data/sls/scratch/yuangong/dataset/IEMOCAP/Session2/sentences/wav/Ses02F_impro07/Ses02F_impro07_M005.wav', 'instruction': 'What does the speaker find awesome?', 'output': 'The speaker finds something awesome.', 'input': \"That's first choice, huh? That's so awesome. And now look, you're going to be here.\", 'dataset': 'IEMOCAP', 'task': 'open-ended question'}\n",
      "{'audio_id': '/data/sls/scratch/yuangong/dataset/IEMOCAP/Session2/sentences/wav/Ses02F_script02_2/Ses02F_script02_2_M037.wav', 'instruction': \"What can be inferred from the speaker's fast speech speed?\", 'output': 'The fast speech speed suggests a sense of urgency or emotional intensity.', 'input': 'Maybe if you were with somebody else too.', 'dataset': 'IEMOCAP', 'task': 'open-ended question'}\n",
      "{'audio_id': '/data/sls/scratch/yuangong/dataset/IEMOCAP/Session2/sentences/wav/Ses02F_impro05/Ses02F_impro05_M013.wav', 'instruction': \"Is there any urgency in the speaker's speech?\", 'output': \"No, there is no urgency in the speaker's speech as it is delivered slowly and without any special emphasis.\", 'input': 'Well, there are some shops here in the airport and then', 'dataset': 'IEMOCAP', 'task': 'open-ended question'}\n",
      "{'audio_id': '/data/sls/scratch/yuangong/dataset/IEMOCAP/Session1/sentences/wav/Ses01F_script01_1/Ses01F_script01_1_M002.wav', 'instruction': \"What can you infer about the speaker's reaction to the cracking sound?\", 'output': \"The speaker's reaction to the cracking sound is characterized by curiosity and a need to investigate the source of the sound.\", 'input': 'I heard a cracking and I woke up and looked out. He was standing right over there when it cracked.', 'dataset': 'IEMOCAP', 'task': 'open-ended question'}\n",
      "{'audio_id': '/data/sls/scratch/yuangong/dataset/IEMOCAP/Session4/sentences/wav/Ses04F_impro06/Ses04F_impro06_F006.wav', 'instruction': 'What could be some possible causes for the low volume of the speech?', 'output': 'Possible causes for the low volume of the speech could include a lack of energy, a desire to be heard only by a specific person, or a need for privacy.', 'input': \"This doesn't seem fair.\", 'dataset': 'IEMOCAP', 'task': 'open-ended question'}\n",
      "{'instruction': 'What was the verbal content you heard?', 'audio_id': '/data/sls/scratch/yuangong/dataset/IEMOCAP/Session1/sentences/wav/Ses01M_script01_1/Ses01M_script01_1_F005.wav', 'input': 'He cried hard.', 'output': 'Spoken text: He cried hard.', 'dataset': 'IEMOCAP', 'task': 'ASR'}\n"
     ]
    }
   ],
   "source": [
    "i = 0\n",
    "for x in dataset:\n",
    "    if x['dataset'] == 'IEMOCAP' or x['dataset'] == 'iemocap_tr':\n",
    "        print(x)\n",
    "        i += 1\n",
    "        if i == 10:\n",
    "            break"
   ]
  },
  {
   "cell_type": "markdown",
   "id": "f0ef5079-2a15-4beb-a3fc-07cce058012e",
   "metadata": {},
   "source": [
    "## IEMOCAP"
   ]
  },
  {
   "cell_type": "code",
   "execution_count": 16,
   "id": "9c7ef606-9bb1-4903-9af3-3b38f2294014",
   "metadata": {},
   "outputs": [],
   "source": [
    "audio_file_names = set()\n",
    "count = 0\n",
    "for x in dataset:\n",
    "    if x['dataset'] == 'IEMOCAP' or x['dataset'] == 'iemocap_tr':\n",
    "        y = x['audio_id'].split(\"/\")[-1].replace(\".wav\", \"\")\n",
    "        audio_file_names.add(y)\n",
    "        count += 1\n",
    "s"
   ]
  },
  {
   "cell_type": "code",
   "execution_count": 17,
   "id": "9eba3e99-6993-463b-b528-fbc7a5cc8d34",
   "metadata": {},
   "outputs": [
    {
     "data": {
      "text/plain": [
       "(4290, 108510)"
      ]
     },
     "execution_count": 17,
     "metadata": {},
     "output_type": "execute_result"
    }
   ],
   "source": [
    "len(audio_file_names), count"
   ]
  },
  {
   "cell_type": "code",
   "execution_count": 21,
   "id": "01153889-4e28-4269-a8ff-2b96b3a3e84d",
   "metadata": {},
   "outputs": [],
   "source": [
    "with open(\"/dataset/audio-data/IEMOCAP/openasqa_iemocap_ids.json\", \"w\") as f:\n",
    "    json.dump(list(audio_file_names), f, indent=4)"
   ]
  },
  {
   "cell_type": "markdown",
   "id": "b8acc855-1e7f-4633-bbb6-9d05c56621a4",
   "metadata": {},
   "source": [
    "## LibriTTS"
   ]
  },
  {
   "cell_type": "code",
   "execution_count": 27,
   "id": "c6c01c38-0c27-49b5-9271-72c65ed72622",
   "metadata": {},
   "outputs": [],
   "source": [
    "audio_file_names = set()\n",
    "count = 0\n",
    "for x in dataset:\n",
    "    if x['dataset'] == 'libritts' or x['dataset'] == 'libritts_tr':\n",
    "        y = x['audio_id'].split(\"/\")[-1].replace(\".wav\", \"\")\n",
    "        audio_file_names.add(y)\n",
    "        count += 1"
   ]
  },
  {
   "cell_type": "code",
   "execution_count": 28,
   "id": "4213cda4-c065-4eb9-9ab7-71f2a86d0f15",
   "metadata": {},
   "outputs": [
    {
     "data": {
      "text/plain": [
       "(21598, 526052)"
      ]
     },
     "execution_count": 28,
     "metadata": {},
     "output_type": "execute_result"
    }
   ],
   "source": [
    "len(audio_file_names), count"
   ]
  },
  {
   "cell_type": "code",
   "execution_count": 31,
   "id": "4395a569-94de-45e2-9cbb-7ac08391a98a",
   "metadata": {},
   "outputs": [],
   "source": [
    "with open(\"/dataset/audio-data/libritts/openasqa_libritts_ids.json\", \"w\") as f:\n",
    "    json.dump(list(audio_file_names), f, indent=4)"
   ]
  }
 ],
 "metadata": {
  "kernelspec": {
   "display_name": "Python 3 (ipykernel)",
   "language": "python",
   "name": "python3"
  },
  "language_info": {
   "codemirror_mode": {
    "name": "ipython",
    "version": 3
   },
   "file_extension": ".py",
   "mimetype": "text/x-python",
   "name": "python",
   "nbconvert_exporter": "python",
   "pygments_lexer": "ipython3",
   "version": "3.9.19"
  }
 },
 "nbformat": 4,
 "nbformat_minor": 5
}
