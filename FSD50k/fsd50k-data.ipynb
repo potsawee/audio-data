{
 "cells": [
  {
   "cell_type": "code",
   "execution_count": 1,
   "id": "14eecf84-772b-419f-867c-be2096d578c8",
   "metadata": {},
   "outputs": [],
   "source": [
    "from pydub import AudioSegment"
   ]
  },
  {
   "cell_type": "code",
   "execution_count": 2,
   "id": "1674f53a-b23a-4d20-b076-f6cc1837a704",
   "metadata": {},
   "outputs": [
    {
     "name": "stdout",
     "output_type": "stream",
     "text": [
      "Frame Width: 2 (I think it's in Bytes)\n",
      "Sampling Rate: 44.1 kHz\n",
      "Bitrate: 705.6 kbps\n"
     ]
    }
   ],
   "source": [
    "# Load your audio file\n",
    "audio = AudioSegment.from_file(\"./clips/dev/10001.wav\")\n",
    "\n",
    "# Get sampling rate\n",
    "sampling_rate = audio.frame_rate\n",
    "\n",
    "# Get bitrate\n",
    "bitrate = audio.frame_width * audio.frame_rate * 8\n",
    "\n",
    "print(f\"Frame Width: {audio.frame_width} (I think it's in Bytes)\")\n",
    "print(f\"Sampling Rate: {sampling_rate/1000} kHz\")\n",
    "print(f\"Bitrate: {bitrate/1000} kbps\")"
   ]
  },
  {
   "cell_type": "markdown",
   "id": "22ac5617-6cfa-4231-aea1-e49d183cf4b3",
   "metadata": {},
   "source": [
    "### After resampling"
   ]
  },
  {
   "cell_type": "code",
   "execution_count": 18,
   "id": "ecce0e2a-2c48-403e-9f31-c61292af8906",
   "metadata": {},
   "outputs": [
    {
     "name": "stdout",
     "output_type": "stream",
     "text": [
      "Frame Width: 2 (I think it's in Bytes)\n",
      "Sampling Rate: 16.0 kHz\n",
      "Bitrate: 256.0 kbps\n"
     ]
    }
   ],
   "source": [
    "# Load your audio file\n",
    "audio = AudioSegment.from_file(\"./wav_16k/10001.wav\")\n",
    "\n",
    "# Get sampling rate\n",
    "sampling_rate = audio.frame_rate\n",
    "\n",
    "# Get bitrate\n",
    "bitrate = audio.frame_width * audio.frame_rate * 8\n",
    "\n",
    "print(f\"Frame Width: {audio.frame_width} (I think it's in Bytes)\")\n",
    "print(f\"Sampling Rate: {sampling_rate/1000} kHz\")\n",
    "print(f\"Bitrate: {bitrate/1000} kbps\")"
   ]
  },
  {
   "cell_type": "markdown",
   "id": "cc501adb-caad-47d9-a97a-949bafddf88e",
   "metadata": {},
   "source": [
    "## LTU-OpenAQA"
   ]
  },
  {
   "cell_type": "code",
   "execution_count": 8,
   "id": "a446f837-d845-4131-acde-892d251e008e",
   "metadata": {},
   "outputs": [],
   "source": [
    "import json\n",
    "from tqdm import tqdm"
   ]
  },
  {
   "cell_type": "code",
   "execution_count": 4,
   "id": "de68c277-335f-4cd4-8d2c-10b14ab7e0c4",
   "metadata": {},
   "outputs": [],
   "source": [
    "with open(\"../ltu-openasqa/openasqa_10.3M_v2.json\") as f:\n",
    "    data = json.load(f)"
   ]
  },
  {
   "cell_type": "code",
   "execution_count": 25,
   "id": "bab011c1-6e12-4336-9d0d-ae5e3cb673aa",
   "metadata": {},
   "outputs": [],
   "source": [
    "with open(\"../ltu-openasqa/openasqa_10.3M_v2.thai.json\") as f:\n",
    "    data_thai = json.load(f)"
   ]
  },
  {
   "cell_type": "code",
   "execution_count": 5,
   "id": "feda37d6-db07-48f4-b1cc-cda86bb628f9",
   "metadata": {},
   "outputs": [
    {
     "data": {
      "text/plain": [
       "10324230"
      ]
     },
     "execution_count": 5,
     "metadata": {},
     "output_type": "execute_result"
    }
   ],
   "source": [
    "len(data)"
   ]
  },
  {
   "cell_type": "code",
   "execution_count": 10,
   "id": "c0ee6b88-b39b-4d1f-bb9e-9334629c608c",
   "metadata": {},
   "outputs": [
    {
     "name": "stderr",
     "output_type": "stream",
     "text": [
      "100%|██████████████████████████████████████████████████████████████████████████████| 10324230/10324230 [00:04<00:00, 2304168.22it/s]\n"
     ]
    }
   ],
   "source": [
    "fsd50k_data = []\n",
    "for x in tqdm(data):\n",
    "    if 'fsd' in x['dataset']:\n",
    "        fsd50k_data.append(x['audio_id'].split(\"/\")[-1])"
   ]
  },
  {
   "cell_type": "code",
   "execution_count": 11,
   "id": "902be755-3217-404e-a778-6582ae2e5ec8",
   "metadata": {},
   "outputs": [
    {
     "data": {
      "text/plain": [
       "485385"
      ]
     },
     "execution_count": 11,
     "metadata": {},
     "output_type": "execute_result"
    }
   ],
   "source": [
    "len(fsd50k_data)"
   ]
  },
  {
   "cell_type": "code",
   "execution_count": 12,
   "id": "4a6f9b32-cece-465a-b191-99128269d28a",
   "metadata": {},
   "outputs": [],
   "source": [
    "fsd50k_data = set(fsd50k_data)"
   ]
  },
  {
   "cell_type": "code",
   "execution_count": 15,
   "id": "f1ec1e06-4705-440f-91f4-e3f1df037235",
   "metadata": {},
   "outputs": [
    {
     "data": {
      "text/plain": [
       "40966"
      ]
     },
     "execution_count": 15,
     "metadata": {},
     "output_type": "execute_result"
    }
   ],
   "source": [
    "len(fsd50k_data)\n",
    "# this is the same number of examples as those in clips/dev"
   ]
  },
  {
   "cell_type": "markdown",
   "id": "0697d1c7-32ae-4d87-8149-353df65360af",
   "metadata": {},
   "source": [
    "# Prepare Data"
   ]
  },
  {
   "cell_type": "code",
   "execution_count": 20,
   "id": "1ce65a49-afc3-46fc-ab65-9da7aa832c5a",
   "metadata": {},
   "outputs": [],
   "source": [
    "import os"
   ]
  },
  {
   "cell_type": "code",
   "execution_count": 21,
   "id": "f81ca8fe-01e2-47eb-aa57-ab8599a9984b",
   "metadata": {},
   "outputs": [
    {
     "data": {
      "text/plain": [
       "'Ses03F_script01_3_F033.wav'"
      ]
     },
     "execution_count": 21,
     "metadata": {},
     "output_type": "execute_result"
    }
   ],
   "source": [
    "x['audio_id'].split(\"/\")[-1]"
   ]
  },
  {
   "cell_type": "code",
   "execution_count": 19,
   "id": "21679db4-f95f-444b-a0d9-1225ff12e8de",
   "metadata": {},
   "outputs": [
    {
     "data": {
      "text/plain": [
       "{'audio_id': '/data/sls/scratch/yuangong/dataset/IEMOCAP/Session3/sentences/wav/Ses03F_script01_3/Ses03F_script01_3_F033.wav',\n",
       " 'instruction': 'What is the volume of the speech?',\n",
       " 'output': 'The volume of the speech is very low.',\n",
       " 'input': \"Because you can't feel that way never again, Chris. You hear me? Never. I mean, the money and me too.\",\n",
       " 'dataset': 'IEMOCAP',\n",
       " 'task': 'open-ended question'}"
      ]
     },
     "execution_count": 19,
     "metadata": {},
     "output_type": "execute_result"
    }
   ],
   "source": [
    "x"
   ]
  },
  {
   "cell_type": "code",
   "execution_count": 31,
   "id": "abf1b939-f235-4164-bedd-7edbdc50a669",
   "metadata": {},
   "outputs": [
    {
     "name": "stderr",
     "output_type": "stream",
     "text": [
      "100%|██████████████████████████████████████████████████████████████████████████████| 10324230/10324230 [00:06<00:00, 1525735.00it/s]\n"
     ]
    }
   ],
   "source": [
    "fsd50k_examples = []\n",
    "for x in tqdm(data):\n",
    "    if 'fsd' in x['dataset']:\n",
    "        wav_name = x['audio_id'].split(\"/\")[-1]\n",
    "        path = f\"/dataset/audio-data/FSD50k/wav_16k/{wav_name}\"\n",
    "        assert os.path.isfile(path)\n",
    "        fsd50k_examples.append({\n",
    "            'path': path,\n",
    "            'task': \"QA\",\n",
    "            'Q': x['instruction'],\n",
    "            'text': x['output'],\n",
    "        })"
   ]
  },
  {
   "cell_type": "code",
   "execution_count": 32,
   "id": "1c52bfe8-f14b-4abe-becb-9cbd401f6b28",
   "metadata": {},
   "outputs": [
    {
     "data": {
      "text/plain": [
       "485385"
      ]
     },
     "execution_count": 32,
     "metadata": {},
     "output_type": "execute_result"
    }
   ],
   "source": [
    "len(fsd50k_examples)"
   ]
  },
  {
   "cell_type": "code",
   "execution_count": 33,
   "id": "c20ef78c-3d69-4f0c-8c39-645082ccee18",
   "metadata": {},
   "outputs": [
    {
     "data": {
      "text/plain": [
       "{'path': '/dataset/audio-data/FSD50k/wav_16k/97515.wav',\n",
       " 'task': 'QA',\n",
       " 'Q': 'What is the difference between the percussive and metallic sound and the comfortable and warm sound in terms of their acoustic features?',\n",
       " 'text': 'The percussive and metallic sound has sharp attacks and sustained resonances, while the comfortable and warm sound is characterized by more gentle sustain and lower pitches'}"
      ]
     },
     "execution_count": 33,
     "metadata": {},
     "output_type": "execute_result"
    }
   ],
   "source": [
    "fsd50k_examples[9999]"
   ]
  },
  {
   "cell_type": "code",
   "execution_count": 34,
   "id": "432aa9f2-4883-4b1f-98e9-ae2d2dec2db8",
   "metadata": {},
   "outputs": [],
   "source": [
    "with open(\"./train.en.json\", \"w\") as f:\n",
    "    json.dump(fsd50k_examples, f, indent=4)"
   ]
  },
  {
   "cell_type": "code",
   "execution_count": 35,
   "id": "f78165e8-17d6-480a-aa8a-5977fe8a57a2",
   "metadata": {},
   "outputs": [
    {
     "name": "stderr",
     "output_type": "stream",
     "text": [
      "100%|██████████████████████████████████████████████████████████████████████████████| 10324230/10324230 [00:06<00:00, 1557448.58it/s]\n"
     ]
    }
   ],
   "source": [
    "fsd50k_examples_thai = []\n",
    "for x in tqdm(data_thai):\n",
    "    if 'fsd' in x['dataset']:\n",
    "        wav_name = x['audio_id'].split(\"/\")[-1]\n",
    "        path = f\"/dataset/audio-data/FSD50k/wav_16k/{wav_name}\"\n",
    "        assert os.path.isfile(path)\n",
    "        fsd50k_examples_thai.append({\n",
    "            'path': path,\n",
    "            'task': \"QA\",\n",
    "            'Q': x['instruction'],\n",
    "            'text': x['output'],\n",
    "        })"
   ]
  },
  {
   "cell_type": "code",
   "execution_count": 36,
   "id": "30495e49-40f0-4f27-87d9-1f87b4f1915e",
   "metadata": {},
   "outputs": [],
   "source": [
    "with open(\"./train.th.json\", \"w\") as f:\n",
    "    json.dump(fsd50k_examples_thai, f, indent=4, ensure_ascii=False)"
   ]
  },
  {
   "cell_type": "code",
   "execution_count": 37,
   "id": "81aa01ef-19a2-4b7b-8ffa-1cff293e3724",
   "metadata": {},
   "outputs": [
    {
     "data": {
      "text/plain": [
       "{'path': '/dataset/audio-data/FSD50k/wav_16k/97515.wav',\n",
       " 'task': 'QA',\n",
       " 'Q': 'อะไรคือความแตกต่างระหว่างเสียงเพอร์คัสชั่นและโลหะกับเสียงที่สบายและอบอุ่นในแง่ของคุณสมบัติทางเสียง?',\n",
       " 'text': 'เสียงเพอร์คัสชั่นและโลหะมีการโจมตีที่เฉียบคมและมีเสียงสะท้อนที่ยั่งยืน ในขณะที่เสียงที่สบายและอบอุ่นมีเอกลักษณ์เฉพาะด้วยเสียงที่ยาวนานกว่าและความถี่ที่ต่ำกว่า'}"
      ]
     },
     "execution_count": 37,
     "metadata": {},
     "output_type": "execute_result"
    }
   ],
   "source": [
    "fsd50k_examples_thai[9999]"
   ]
  },
  {
   "cell_type": "code",
   "execution_count": 38,
   "id": "debb15bf-b86f-48a3-be23-1a992929f2b1",
   "metadata": {},
   "outputs": [
    {
     "data": {
      "text/plain": [
       "485385"
      ]
     },
     "execution_count": 38,
     "metadata": {},
     "output_type": "execute_result"
    }
   ],
   "source": [
    "len(fsd50k_examples_thai)"
   ]
  },
  {
   "cell_type": "code",
   "execution_count": null,
   "id": "37bb0f4d-4713-45cf-89f8-38ea4c11f015",
   "metadata": {},
   "outputs": [],
   "source": []
  }
 ],
 "metadata": {
  "kernelspec": {
   "display_name": "Python 3 (ipykernel)",
   "language": "python",
   "name": "python3"
  },
  "language_info": {
   "codemirror_mode": {
    "name": "ipython",
    "version": 3
   },
   "file_extension": ".py",
   "mimetype": "text/x-python",
   "name": "python",
   "nbconvert_exporter": "python",
   "pygments_lexer": "ipython3",
   "version": "3.9.19"
  }
 },
 "nbformat": 4,
 "nbformat_minor": 5
}
