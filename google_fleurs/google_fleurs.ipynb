{
 "cells": [
  {
   "cell_type": "code",
   "execution_count": 28,
   "id": "a475026e-2aa0-417e-bfca-25b48377a133",
   "metadata": {},
   "outputs": [],
   "source": [
    "from datasets import load_dataset\n",
    "from tqdm import tqdm\n",
    "import shutil\n",
    "import os\n",
    "import json"
   ]
  },
  {
   "cell_type": "code",
   "execution_count": 2,
   "id": "6058fc74-7a3f-42a0-93a5-7487af4207d4",
   "metadata": {},
   "outputs": [
    {
     "name": "stderr",
     "output_type": "stream",
     "text": [
      "/cache/miniconda3/envs/exp-punpun0/lib/python3.9/site-packages/datasets/load.py:1461: FutureWarning: The repository for google/fleurs contains custom code which must be executed to correctly load the dataset. You can inspect the repository content at https://hf.co/datasets/google/fleurs\n",
      "You can avoid this message in future by passing the argument `trust_remote_code=True`.\n",
      "Passing `trust_remote_code=True` will be mandatory to load this dataset from the next major release of `datasets`.\n",
      "  warnings.warn(\n"
     ]
    }
   ],
   "source": [
    "fleurs = load_dataset(\"google/fleurs\", \"th_th\")"
   ]
  },
  {
   "cell_type": "code",
   "execution_count": 3,
   "id": "73768060-16a9-4c1a-b3da-221b07d529ea",
   "metadata": {},
   "outputs": [
    {
     "data": {
      "text/plain": [
       "DatasetDict({\n",
       "    train: Dataset({\n",
       "        features: ['id', 'num_samples', 'path', 'audio', 'transcription', 'raw_transcription', 'gender', 'lang_id', 'language', 'lang_group_id'],\n",
       "        num_rows: 2602\n",
       "    })\n",
       "    validation: Dataset({\n",
       "        features: ['id', 'num_samples', 'path', 'audio', 'transcription', 'raw_transcription', 'gender', 'lang_id', 'language', 'lang_group_id'],\n",
       "        num_rows: 439\n",
       "    })\n",
       "    test: Dataset({\n",
       "        features: ['id', 'num_samples', 'path', 'audio', 'transcription', 'raw_transcription', 'gender', 'lang_id', 'language', 'lang_group_id'],\n",
       "        num_rows: 1021\n",
       "    })\n",
       "})"
      ]
     },
     "execution_count": 3,
     "metadata": {},
     "output_type": "execute_result"
    }
   ],
   "source": [
    "fleurs"
   ]
  },
  {
   "cell_type": "code",
   "execution_count": 31,
   "id": "aa0478d8-5b1f-4310-bef4-836a6ac519ff",
   "metadata": {},
   "outputs": [],
   "source": [
    "fleurs_train = fleurs['train']\n",
    "fleurs_validation = fleurs['validation']\n",
    "fleurs_test = fleurs['test']"
   ]
  },
  {
   "cell_type": "code",
   "execution_count": 29,
   "id": "5148daa0-8a60-460a-8c8b-6d07dc3b86ad",
   "metadata": {},
   "outputs": [
    {
     "name": "stderr",
     "output_type": "stream",
     "text": [
      "100%|█████████████████████████████████████████████████████████████████████████████████| 2602/2602 [00:06<00:00, 405.56it/s]\n"
     ]
    }
   ],
   "source": [
    "data = []\n",
    "for x in tqdm(fleurs_train):\n",
    "    path0 = x['path']\n",
    "    path1 = x['audio']['path']\n",
    "    path2 = path0.replace(path1.replace(\"train/\", \"\"), \"\")\n",
    "    src_path = path2 + path1\n",
    "    dst_path = f\"/dataset/audio-data/google_fleurs/wav/{path1}\"\n",
    "    assert os.path.exists(src_path)\n",
    "    shutil.copyfile(src_path, dst_path)\n",
    "\n",
    "    data.append({\n",
    "        'id': x['id'],\n",
    "        'path': dst_path,\n",
    "        'transcription': x['transcription'],\n",
    "        'raw_transcription': x['raw_transcription'],\n",
    "        'gender': x['gender'],\n",
    "    })\n",
    "with open(\"./fleurs_train.json\", \"w\") as f:\n",
    "    json.dump(data, f, indent=4, ensure_ascii=False)"
   ]
  },
  {
   "cell_type": "code",
   "execution_count": 34,
   "id": "4d1511c3-48d1-4d4c-a3b5-336b7d188039",
   "metadata": {},
   "outputs": [
    {
     "name": "stderr",
     "output_type": "stream",
     "text": [
      "100%|███████████████████████████████████████████████████████████████████████████████████| 439/439 [00:01<00:00, 425.25it/s]\n"
     ]
    }
   ],
   "source": [
    "data = []\n",
    "for x in tqdm(fleurs_validation):\n",
    "    path0 = x['path']\n",
    "    path1 = x['audio']['path']\n",
    "    path2 = path0.replace(path1.replace(\"dev/\", \"\"), \"\")\n",
    "    src_path = path2 + path1\n",
    "    dst_path = f\"/dataset/audio-data/google_fleurs/wav/{path1}\"\n",
    "    assert os.path.exists(src_path)\n",
    "    shutil.copyfile(src_path, dst_path)\n",
    "\n",
    "    data.append({\n",
    "        'id': x['id'],\n",
    "        'path': dst_path,\n",
    "        'transcription': x['transcription'],\n",
    "        'raw_transcription': x['raw_transcription'],\n",
    "        'gender': x['gender'],\n",
    "    })\n",
    "with open(\"./fleurs_validation.json\", \"w\") as f:\n",
    "    json.dump(data, f, indent=4, ensure_ascii=False)"
   ]
  },
  {
   "cell_type": "code",
   "execution_count": 36,
   "id": "3eb1b3f1-2de3-41d9-8a79-5e8675246cec",
   "metadata": {},
   "outputs": [
    {
     "name": "stderr",
     "output_type": "stream",
     "text": [
      "100%|█████████████████████████████████████████████████████████████████████████████████| 1021/1021 [00:02<00:00, 430.20it/s]\n"
     ]
    }
   ],
   "source": [
    "data = []\n",
    "for x in tqdm(fleurs_test):\n",
    "    path0 = x['path']\n",
    "    path1 = x['audio']['path']\n",
    "    path2 = path0.replace(path1.replace(\"test/\", \"\"), \"\")\n",
    "    src_path = path2 + path1\n",
    "    dst_path = f\"/dataset/audio-data/google_fleurs/wav/{path1}\"\n",
    "    assert os.path.exists(src_path)\n",
    "    shutil.copyfile(src_path, dst_path)\n",
    "\n",
    "    data.append({\n",
    "        'id': x['id'],\n",
    "        'path': dst_path,\n",
    "        'transcription': x['transcription'],\n",
    "        'raw_transcription': x['raw_transcription'],\n",
    "        'gender': x['gender'],\n",
    "    })\n",
    "with open(\"./fleurs_test.json\", \"w\") as f:\n",
    "    json.dump(data, f, indent=4, ensure_ascii=False)"
   ]
  },
  {
   "cell_type": "markdown",
   "id": "5523d3bd-3070-4f5c-9473-c686c9fb6ff0",
   "metadata": {},
   "source": [
    "## Saninty check"
   ]
  },
  {
   "cell_type": "code",
   "execution_count": 37,
   "id": "795b23e5-ba3b-4d8c-9dda-6d3d6b35c1cc",
   "metadata": {},
   "outputs": [],
   "source": [
    "from pydub import AudioSegment"
   ]
  },
  {
   "cell_type": "code",
   "execution_count": 38,
   "id": "39d3d984-44ca-4cba-9526-fed484c19e68",
   "metadata": {},
   "outputs": [
    {
     "name": "stdout",
     "output_type": "stream",
     "text": [
      "Frame Width: 4\n",
      "Sampling Rate: 16.0 kHz\n",
      "Bitrate: 512.0 kbps\n"
     ]
    }
   ],
   "source": [
    "# Load your audio file\n",
    "audio = AudioSegment.from_file(\"./wav/test/10021525843523202225.wav\")\n",
    "\n",
    "# Get sampling rate\n",
    "sampling_rate = audio.frame_rate\n",
    "\n",
    "# Get bitrate\n",
    "bitrate = audio.frame_width * audio.frame_rate * 8\n",
    "\n",
    "print(f\"Frame Width: {audio.frame_width}\")\n",
    "print(f\"Sampling Rate: {sampling_rate/1000} kHz\")\n",
    "print(f\"Bitrate: {bitrate/1000} kbps\")"
   ]
  }
 ],
 "metadata": {
  "kernelspec": {
   "display_name": "Python 3 (ipykernel)",
   "language": "python",
   "name": "python3"
  },
  "language_info": {
   "codemirror_mode": {
    "name": "ipython",
    "version": 3
   },
   "file_extension": ".py",
   "mimetype": "text/x-python",
   "name": "python",
   "nbconvert_exporter": "python",
   "pygments_lexer": "ipython3",
   "version": "3.9.19"
  }
 },
 "nbformat": 4,
 "nbformat_minor": 5
}
