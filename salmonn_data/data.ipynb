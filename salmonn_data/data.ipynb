{
 "cells": [
  {
   "cell_type": "code",
   "execution_count": 1,
   "id": "13cd5bcf-55a0-4034-9618-e269fe3992e9",
   "metadata": {},
   "outputs": [],
   "source": [
    "import json"
   ]
  },
  {
   "cell_type": "code",
   "execution_count": 2,
   "id": "7be580af-fad9-426f-8a3f-e719ceddde73",
   "metadata": {},
   "outputs": [],
   "source": [
    "with open(\"./salmonn_stage2_data.json\") as f:\n",
    "    data = json.load(f)"
   ]
  },
  {
   "cell_type": "code",
   "execution_count": 5,
   "id": "c7368613-445e-4427-a9f8-3634191cf922",
   "metadata": {},
   "outputs": [
    {
     "data": {
      "text/plain": [
       "2390842"
      ]
     },
     "execution_count": 5,
     "metadata": {},
     "output_type": "execute_result"
    }
   ],
   "source": [
    "data = data['annotation']\n",
    "len(data)"
   ]
  },
  {
   "cell_type": "code",
   "execution_count": 6,
   "id": "9d761f5a-5121-4f9f-98ed-d5cf8d894fc1",
   "metadata": {},
   "outputs": [
    {
     "data": {
      "text/plain": [
       "{'path': '/LibriSpeech/train-clean-360/7540/101262/7540-101262-0037.flac',\n",
       " 'text': 'He mounted and rode back and the old woman placed food on the table and led the mare back to the stable you should have gone to the foxes as i told you said she striking the mare with a stick i did go to the foxes replied the mare but they are no friends of mine',\n",
       " 'task': 'asr'}"
      ]
     },
     "execution_count": 6,
     "metadata": {},
     "output_type": "execute_result"
    }
   ],
   "source": [
    "data[0]"
   ]
  },
  {
   "cell_type": "code",
   "execution_count": 7,
   "id": "69ebb96b-c40c-41a8-9cb6-7969c5ad58e1",
   "metadata": {},
   "outputs": [],
   "source": [
    "tasks = set()\n",
    "for i in range(len(data)):\n",
    "    tasks.add(data[i]['task'])"
   ]
  },
  {
   "cell_type": "code",
   "execution_count": 8,
   "id": "33032c7f-e5a4-4055-8050-d3a50ce2c79d",
   "metadata": {},
   "outputs": [
    {
     "data": {
      "text/plain": [
       "{'QA',\n",
       " 'asr',\n",
       " 'audiocaption',\n",
       " 'audiocaption_v2',\n",
       " 'emotion_recognition',\n",
       " 'gender_recognition',\n",
       " 'music_description',\n",
       " 'phone_recognition',\n",
       " 'speaker_verification',\n",
       " 'speech_separation',\n",
       " 'translation_ec'}"
      ]
     },
     "execution_count": 8,
     "metadata": {},
     "output_type": "execute_result"
    }
   ],
   "source": [
    "tasks"
   ]
  },
  {
   "cell_type": "code",
   "execution_count": null,
   "id": "d18333ab-8b02-4812-83f5-30a12f27ceca",
   "metadata": {},
   "outputs": [],
   "source": []
  }
 ],
 "metadata": {
  "kernelspec": {
   "display_name": "Python 3 (ipykernel)",
   "language": "python",
   "name": "python3"
  },
  "language_info": {
   "codemirror_mode": {
    "name": "ipython",
    "version": 3
   },
   "file_extension": ".py",
   "mimetype": "text/x-python",
   "name": "python",
   "nbconvert_exporter": "python",
   "pygments_lexer": "ipython3",
   "version": "3.9.19"
  }
 },
 "nbformat": 4,
 "nbformat_minor": 5
}
