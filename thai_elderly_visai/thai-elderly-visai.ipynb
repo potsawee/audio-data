{
 "cells": [
  {
   "cell_type": "code",
   "execution_count": 1,
   "id": "764ac040-30d3-4478-b26f-33ecc60be1c6",
   "metadata": {},
   "outputs": [],
   "source": [
    "from pydub import AudioSegment"
   ]
  },
  {
   "cell_type": "code",
   "execution_count": 2,
   "id": "a5154368-f202-4bd1-9c83-16707cfc21c1",
   "metadata": {},
   "outputs": [
    {
     "name": "stdout",
     "output_type": "stream",
     "text": [
      "Frame Width: 2\n",
      "Sampling Rate: 48.0 kHz\n",
      "Bitrate: 768.0 kbps\n"
     ]
    }
   ],
   "source": [
    "# Load your audio file\n",
    "audio = AudioSegment.from_file(\"./Dataset/Healthcare/Record/record_healthcare_7000016_1024.wav\")\n",
    "\n",
    "# Get sampling rate\n",
    "sampling_rate = audio.frame_rate\n",
    "\n",
    "# Get bitrate\n",
    "bitrate = audio.frame_width * audio.frame_rate * 8\n",
    "\n",
    "print(f\"Frame Width: {audio.frame_width}\")\n",
    "print(f\"Sampling Rate: {sampling_rate/1000} kHz\")\n",
    "print(f\"Bitrate: {bitrate/1000} kbps\")"
   ]
  },
  {
   "cell_type": "code",
   "execution_count": 3,
   "id": "19dbfc0a-aeed-4bce-ae22-c6309e39c8e0",
   "metadata": {},
   "outputs": [
    {
     "name": "stdout",
     "output_type": "stream",
     "text": [
      "Frame Width: 2\n",
      "Sampling Rate: 48.0 kHz\n",
      "Bitrate: 768.0 kbps\n"
     ]
    }
   ],
   "source": [
    "# Load your audio file\n",
    "audio = AudioSegment.from_file(\"./Dataset/Healthcare/Record/record_healthcare_7000016_805.wav\")\n",
    "\n",
    "# Get sampling rate\n",
    "sampling_rate = audio.frame_rate\n",
    "\n",
    "# Get bitrate\n",
    "bitrate = audio.frame_width * audio.frame_rate * 8\n",
    "\n",
    "print(f\"Frame Width: {audio.frame_width}\")\n",
    "print(f\"Sampling Rate: {sampling_rate/1000} kHz\")\n",
    "print(f\"Bitrate: {bitrate/1000} kbps\")"
   ]
  },
  {
   "cell_type": "code",
   "execution_count": 4,
   "id": "97519669-efd3-429a-9112-2892965701c4",
   "metadata": {},
   "outputs": [
    {
     "name": "stdout",
     "output_type": "stream",
     "text": [
      "Frame Width: 2\n",
      "Sampling Rate: 48.0 kHz\n",
      "Bitrate: 768.0 kbps\n"
     ]
    }
   ],
   "source": [
    "# Load your audio file\n",
    "audio = AudioSegment.from_file(\"./Dataset/Smarthome/Record/record_smarthome_7000016_1445.wav\")\n",
    "\n",
    "# Get sampling rate\n",
    "sampling_rate = audio.frame_rate\n",
    "\n",
    "# Get bitrate\n",
    "bitrate = audio.frame_width * audio.frame_rate * 8\n",
    "\n",
    "print(f\"Frame Width: {audio.frame_width}\")\n",
    "print(f\"Sampling Rate: {sampling_rate/1000} kHz\")\n",
    "print(f\"Bitrate: {bitrate/1000} kbps\")"
   ]
  },
  {
   "cell_type": "code",
   "execution_count": 5,
   "id": "85fdc99c-9d87-4e2c-bab5-fb87af84b0a3",
   "metadata": {},
   "outputs": [
    {
     "name": "stdout",
     "output_type": "stream",
     "text": [
      "Frame Width: 2\n",
      "Sampling Rate: 16.0 kHz\n",
      "Bitrate: 256.0 kbps\n"
     ]
    }
   ],
   "source": [
    "# Load your audio file\n",
    "audio = AudioSegment.from_file(\"./wav_16k/healthcare/record_healthcare_7000016_1024.wav\")\n",
    "\n",
    "# Get sampling rate\n",
    "sampling_rate = audio.frame_rate\n",
    "\n",
    "# Get bitrate\n",
    "bitrate = audio.frame_width * audio.frame_rate * 8\n",
    "\n",
    "print(f\"Frame Width: {audio.frame_width}\")\n",
    "print(f\"Sampling Rate: {sampling_rate/1000} kHz\")\n",
    "print(f\"Bitrate: {bitrate/1000} kbps\")"
   ]
  },
  {
   "cell_type": "code",
   "execution_count": 23,
   "id": "20d42da6-b653-49ee-b87d-02ec06f871b8",
   "metadata": {},
   "outputs": [
    {
     "name": "stdout",
     "output_type": "stream",
     "text": [
      "Frame Width: 2\n",
      "Sampling Rate: 16.0 kHz\n",
      "Bitrate: 256.0 kbps\n"
     ]
    }
   ],
   "source": [
    "# Load your audio file\n",
    "audio = AudioSegment.from_file(\"./wav_16k/smarthome/record_smarthome_7000016_312.wav\")\n",
    "\n",
    "# Get sampling rate\n",
    "sampling_rate = audio.frame_rate\n",
    "\n",
    "# Get bitrate\n",
    "bitrate = audio.frame_width * audio.frame_rate * 8\n",
    "\n",
    "print(f\"Frame Width: {audio.frame_width}\")\n",
    "print(f\"Sampling Rate: {sampling_rate/1000} kHz\")\n",
    "print(f\"Bitrate: {bitrate/1000} kbps\")"
   ]
  },
  {
   "cell_type": "markdown",
   "id": "d0782499-b80b-473b-8ace-728ee4dd73aa",
   "metadata": {},
   "source": [
    "# Get JSON File"
   ]
  },
  {
   "cell_type": "code",
   "execution_count": 13,
   "id": "49d1f305-3274-496d-902a-760f81235667",
   "metadata": {},
   "outputs": [],
   "source": [
    "import json\n",
    "import os"
   ]
  },
  {
   "cell_type": "code",
   "execution_count": 15,
   "id": "68403711-341f-4c77-980b-4f6ad6031d42",
   "metadata": {},
   "outputs": [],
   "source": [
    "with open(\"./Dataset/Healthcare/transcription.json\") as f:\n",
    "    healthcare_data = json.load(f)"
   ]
  },
  {
   "cell_type": "code",
   "execution_count": 16,
   "id": "a8daa860-00ed-409c-b7ff-87a3df3a506e",
   "metadata": {},
   "outputs": [
    {
     "data": {
      "text/plain": [
       "9600"
      ]
     },
     "execution_count": 16,
     "metadata": {},
     "output_type": "execute_result"
    }
   ],
   "source": [
    "len(healthcare_data)"
   ]
  },
  {
   "cell_type": "code",
   "execution_count": 17,
   "id": "114569ac-ca44-4fe1-9a4e-23eec711bf35",
   "metadata": {},
   "outputs": [],
   "source": [
    "with open(\"./Dataset/Smarthome/transcription.json\") as f:\n",
    "    smarthome_data = json.load(f)"
   ]
  },
  {
   "cell_type": "code",
   "execution_count": 18,
   "id": "361b8d15-89a0-40eb-b54d-536035f9e0b1",
   "metadata": {},
   "outputs": [
    {
     "data": {
      "text/plain": [
       "9600"
      ]
     },
     "execution_count": 18,
     "metadata": {},
     "output_type": "execute_result"
    }
   ],
   "source": [
    "len(smarthome_data)"
   ]
  },
  {
   "cell_type": "code",
   "execution_count": 22,
   "id": "8ee2d04f-c378-4e08-b8a8-014bc0c4e9f2",
   "metadata": {},
   "outputs": [
    {
     "name": "stdout",
     "output_type": "stream",
     "text": [
      "9600\n",
      "19200\n"
     ]
    }
   ],
   "source": [
    "json_data = []\n",
    "for x in healthcare_data:\n",
    "    path = f\"/dataset/audio-data/thai_elderly_visai/wav_16k/healthcare/{x['filename']}.wav\"\n",
    "    assert os.path.isfile(path)\n",
    "    json_data.append({\n",
    "        'path': path,\n",
    "        'text': x['transcript'],\n",
    "    })\n",
    "print(len(json_data))\n",
    "for x in smarthome_data:\n",
    "    path = f\"/dataset/audio-data/thai_elderly_visai/wav_16k/smarthome/{x['filename']}.wav\"\n",
    "    assert os.path.isfile(path)\n",
    "    json_data.append({\n",
    "        'path': path,\n",
    "        'text': x['transcript'],\n",
    "    })\n",
    "print(len(json_data))\n",
    "with open(\"./data.json\", \"w\") as f:\n",
    "    json.dump(json_data, f, indent=4, ensure_ascii=False)"
   ]
  }
 ],
 "metadata": {
  "kernelspec": {
   "display_name": "Python 3 (ipykernel)",
   "language": "python",
   "name": "python3"
  },
  "language_info": {
   "codemirror_mode": {
    "name": "ipython",
    "version": 3
   },
   "file_extension": ".py",
   "mimetype": "text/x-python",
   "name": "python",
   "nbconvert_exporter": "python",
   "pygments_lexer": "ipython3",
   "version": "3.9.19"
  }
 },
 "nbformat": 4,
 "nbformat_minor": 5
}
