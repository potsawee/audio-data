{
 "cells": [
  {
   "cell_type": "code",
   "execution_count": 9,
   "id": "2da3c7dc-6047-4410-a7eb-6dfe0fc80993",
   "metadata": {},
   "outputs": [],
   "source": [
    "import json\n",
    "import os"
   ]
  },
  {
   "cell_type": "code",
   "execution_count": 1,
   "id": "c9c11d89-16fd-4571-a483-b21816d565c3",
   "metadata": {},
   "outputs": [],
   "source": [
    "from pydub import AudioSegment"
   ]
  },
  {
   "cell_type": "code",
   "execution_count": 2,
   "id": "8b1df508-c15b-44a2-b492-80cda81f7ac9",
   "metadata": {},
   "outputs": [
    {
     "name": "stdout",
     "output_type": "stream",
     "text": [
      "Frame Width: 2 (I think it's in Bytes)\n",
      "Sampling Rate: 16.0 kHz\n",
      "Bitrate: 256.0 kbps\n"
     ]
    }
   ],
   "source": [
    "# Load your audio file\n",
    "audio = AudioSegment.from_file(\"./audio_data/0/american_bach_soloists-j_s__bach__cantatas_volume_v-03-gleichwie_der_regen_und_schnee_vom_himmel_fallt_bwv_18_iii_recitative_and_litany__mein_gott_hier_wird_mein_herze_sein-262-291.mp3\")\n",
    "\n",
    "# Get sampling rate\n",
    "sampling_rate = audio.frame_rate\n",
    "\n",
    "# Get bitrate\n",
    "bitrate = audio.frame_width * audio.frame_rate * 8\n",
    "\n",
    "print(f\"Frame Width: {audio.frame_width} (I think it's in Bytes)\")\n",
    "print(f\"Sampling Rate: {sampling_rate/1000} kHz\")\n",
    "print(f\"Bitrate: {bitrate/1000} kbps\")"
   ]
  },
  {
   "cell_type": "code",
   "execution_count": 3,
   "id": "6b731d69-7d64-491f-b898-4fcb724be0f9",
   "metadata": {},
   "outputs": [
    {
     "name": "stdout",
     "output_type": "stream",
     "text": [
      "Frame Width: 2 (I think it's in Bytes)\n",
      "Sampling Rate: 16.0 kHz\n",
      "Bitrate: 256.0 kbps\n"
     ]
    }
   ],
   "source": [
    "# Load your audio file\n",
    "audio = AudioSegment.from_file(\"./audio_data/a/asteria-soyes_loyal-04-jatendray_tant_guillaume_dufay-0-29.mp3\")\n",
    "\n",
    "# Get sampling rate\n",
    "sampling_rate = audio.frame_rate\n",
    "\n",
    "# Get bitrate\n",
    "bitrate = audio.frame_width * audio.frame_rate * 8\n",
    "\n",
    "print(f\"Frame Width: {audio.frame_width} (I think it's in Bytes)\")\n",
    "print(f\"Sampling Rate: {sampling_rate/1000} kHz\")\n",
    "print(f\"Bitrate: {bitrate/1000} kbps\")"
   ]
  },
  {
   "cell_type": "code",
   "execution_count": null,
   "id": "e1b68f6a-522e-4a8f-bfbc-f9a83d71b67a",
   "metadata": {},
   "outputs": [],
   "source": []
  },
  {
   "cell_type": "markdown",
   "id": "5d2474cf-92bd-488b-a585-fd56ad1751f7",
   "metadata": {},
   "source": [
    "# Music Gen-EN"
   ]
  },
  {
   "cell_type": "code",
   "execution_count": 33,
   "id": "0ff90e60-e357-4cd6-9060-bb37f1521ee5",
   "metadata": {},
   "outputs": [],
   "source": [
    "with open(\"./train_no_thai.json\") as f:\n",
    "    data = json.load(f)\n",
    "data_en = []\n",
    "for i in range(len(data)):\n",
    "    path = f\"/dataset/audio-data/LP-MusicCaps-MTT/audio_data/{data[i]['path']}\"\n",
    "    assert os.path.isfile(path)\n",
    "    data_en.append({\n",
    "        'path': path,\n",
    "        'task': \"music_description\",\n",
    "        'text': data[i]['text']\n",
    "    })"
   ]
  },
  {
   "cell_type": "code",
   "execution_count": 34,
   "id": "d9b15e14-c5b4-4f52-9a24-ad274aa9016f",
   "metadata": {},
   "outputs": [],
   "source": [
    "with open(\"./train.en.json\", \"w\") as f:\n",
    "    json.dump(data_en, f, indent=4)"
   ]
  },
  {
   "cell_type": "markdown",
   "id": "3af7980a-048f-46d9-9a70-cc5fd3682cc6",
   "metadata": {},
   "source": [
    "# Music Gen-TH"
   ]
  },
  {
   "cell_type": "code",
   "execution_count": 35,
   "id": "46a020d3-388e-43a6-b4e1-aec12b009fb9",
   "metadata": {},
   "outputs": [],
   "source": [
    "def read_jsonl(path):\n",
    "    data = []\n",
    "    with open(path, 'r') as file:\n",
    "        for line in file:\n",
    "            json_object = json.loads(line)\n",
    "            path = f\"/dataset/audio-data/LP-MusicCaps-MTT/audio_data/{json_object['path']}\"\n",
    "            assert os.path.isfile(path)\n",
    "            data.append({\n",
    "                'path': path,\n",
    "                'task': \"music_description_th\",\n",
    "                'text': json_object['thai']\n",
    "            })\n",
    "    return data"
   ]
  },
  {
   "cell_type": "code",
   "execution_count": 36,
   "id": "5e1c62ff-df6c-45a8-ab91-0f2692012b5a",
   "metadata": {},
   "outputs": [
    {
     "name": "stdout",
     "output_type": "stream",
     "text": [
      "2500\n",
      "5000\n",
      "7500\n",
      "10000\n",
      "12500\n",
      "15000\n",
      "15625\n"
     ]
    }
   ],
   "source": [
    "data = read_jsonl(\"./train_with_thai/0_2500.jsonl\")\n",
    "print(len(data))\n",
    "data += read_jsonl(\"./train_with_thai/2500_5000.jsonl\")\n",
    "print(len(data))\n",
    "data += read_jsonl(\"./train_with_thai/5000_7500.jsonl\")\n",
    "print(len(data))\n",
    "data += read_jsonl(\"./train_with_thai/7500_10000.jsonl\")\n",
    "print(len(data))\n",
    "data += read_jsonl(\"./train_with_thai/10000_12500.jsonl\")\n",
    "print(len(data))\n",
    "data += read_jsonl(\"./train_with_thai/12500_15000.jsonl\")\n",
    "print(len(data))\n",
    "data += read_jsonl(\"./train_with_thai/15000_20000.jsonl\")\n",
    "print(len(data))"
   ]
  },
  {
   "cell_type": "code",
   "execution_count": 37,
   "id": "455328f5-0750-47f4-8ac8-0a09eb7daa44",
   "metadata": {},
   "outputs": [],
   "source": [
    "data_th = data\n",
    "with open(\"./train.th.json\", \"w\") as f:\n",
    "    json.dump(data_th, f, indent=4, ensure_ascii=False)"
   ]
  }
 ],
 "metadata": {
  "kernelspec": {
   "display_name": "Python 3 (ipykernel)",
   "language": "python",
   "name": "python3"
  },
  "language_info": {
   "codemirror_mode": {
    "name": "ipython",
    "version": 3
   },
   "file_extension": ".py",
   "mimetype": "text/x-python",
   "name": "python",
   "nbconvert_exporter": "python",
   "pygments_lexer": "ipython3",
   "version": "3.9.19"
  }
 },
 "nbformat": 4,
 "nbformat_minor": 5
}
